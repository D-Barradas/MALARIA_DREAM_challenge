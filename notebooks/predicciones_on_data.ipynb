{
 "cells": [
  {
   "cell_type": "code",
   "execution_count": 1,
   "metadata": {},
   "outputs": [],
   "source": [
    "import os ,sys \n",
    "import pandas as pd \n",
    "import matplotlib.pyplot as plt\n",
    "import numpy as np\n",
    "from sklearn.ensemble import RandomForestClassifier,RandomForestRegressor\n",
    "from sklearn.preprocessing import StandardScaler"
   ]
  },
  {
   "cell_type": "code",
   "execution_count": 2,
   "metadata": {},
   "outputs": [],
   "source": [
    "np.random.seed(seed = 101)"
   ]
  },
  {
   "cell_type": "code",
   "execution_count": 26,
   "metadata": {},
   "outputs": [],
   "source": [
    "df = pd.read_csv(\"SubCh2_TrainingData.csv\")\n",
    "df.set_index(\"Sample_Names\",inplace=True)\n",
    "df.dropna(subset=[\"ClearanceRate\"],inplace=True)\n",
    "X = df.drop([\"ClearanceRate\",\"Country\",\"Kmeans.Grp\"],axis=1)\n",
    "y = df[\"ClearanceRate\"]"
   ]
  },
  {
   "cell_type": "code",
   "execution_count": 4,
   "metadata": {},
   "outputs": [],
   "source": [
    "#Fill the nan values \n",
    "for m in X.columns :\n",
    "    X[m].fillna((X[m].mean()),inplace=True)\n",
    "    #sub2['income'].fillna((sub2['income'].mean()), inplace=True)"
   ]
  },
  {
   "cell_type": "code",
   "execution_count": 5,
   "metadata": {},
   "outputs": [],
   "source": [
    "scaler = StandardScaler()\n",
    "scaler.fit(X)\n",
    "X_scaled = scaler.transform(X)"
   ]
  },
  {
   "cell_type": "code",
   "execution_count": 6,
   "metadata": {},
   "outputs": [],
   "source": [
    "rfc = RandomForestClassifier( n_estimators=5333 , n_jobs=-1,verbose=1\n",
    "                             , min_samples_split=2,\n",
    "                             min_samples_leaf=4,\n",
    "                             max_features=\"auto\",\n",
    "                             max_depth=20, \n",
    "                             bootstrap=False)"
   ]
  },
  {
   "cell_type": "code",
   "execution_count": 7,
   "metadata": {},
   "outputs": [
    {
     "name": "stderr",
     "output_type": "stream",
     "text": [
      "[Parallel(n_jobs=-1)]: Using backend ThreadingBackend with 8 concurrent workers.\n",
      "[Parallel(n_jobs=-1)]: Done  34 tasks      | elapsed:    0.4s\n",
      "[Parallel(n_jobs=-1)]: Done 184 tasks      | elapsed:    1.7s\n",
      "[Parallel(n_jobs=-1)]: Done 434 tasks      | elapsed:    3.9s\n",
      "[Parallel(n_jobs=-1)]: Done 784 tasks      | elapsed:    7.3s\n",
      "[Parallel(n_jobs=-1)]: Done 1234 tasks      | elapsed:   13.7s\n",
      "[Parallel(n_jobs=-1)]: Done 1784 tasks      | elapsed:   20.1s\n",
      "[Parallel(n_jobs=-1)]: Done 2434 tasks      | elapsed:   27.9s\n",
      "[Parallel(n_jobs=-1)]: Done 3184 tasks      | elapsed:   37.6s\n",
      "[Parallel(n_jobs=-1)]: Done 4034 tasks      | elapsed:   47.7s\n",
      "[Parallel(n_jobs=-1)]: Done 4984 tasks      | elapsed:   59.1s\n",
      "[Parallel(n_jobs=-1)]: Done 5333 out of 5333 | elapsed:  1.1min finished\n"
     ]
    },
    {
     "data": {
      "text/plain": [
       "RandomForestClassifier(bootstrap=False, class_weight=None, criterion='gini',\n",
       "                       max_depth=20, max_features='auto', max_leaf_nodes=None,\n",
       "                       min_impurity_decrease=0.0, min_impurity_split=None,\n",
       "                       min_samples_leaf=4, min_samples_split=2,\n",
       "                       min_weight_fraction_leaf=0.0, n_estimators=5333,\n",
       "                       n_jobs=-1, oob_score=False, random_state=None, verbose=1,\n",
       "                       warm_start=False)"
      ]
     },
     "execution_count": 7,
     "metadata": {},
     "output_type": "execute_result"
    }
   ],
   "source": [
    "rfc.fit(X_scaled,y)"
   ]
  },
  {
   "cell_type": "code",
   "execution_count": 8,
   "metadata": {},
   "outputs": [
    {
     "name": "stderr",
     "output_type": "stream",
     "text": [
      "[Parallel(n_jobs=8)]: Using backend ThreadingBackend with 8 concurrent workers.\n",
      "[Parallel(n_jobs=8)]: Done  34 tasks      | elapsed:    0.0s\n",
      "[Parallel(n_jobs=8)]: Done 184 tasks      | elapsed:    0.1s\n",
      "[Parallel(n_jobs=8)]: Done 434 tasks      | elapsed:    0.1s\n",
      "[Parallel(n_jobs=8)]: Done 784 tasks      | elapsed:    0.2s\n",
      "[Parallel(n_jobs=8)]: Done 1234 tasks      | elapsed:    0.3s\n",
      "[Parallel(n_jobs=8)]: Done 1784 tasks      | elapsed:    0.4s\n",
      "[Parallel(n_jobs=8)]: Done 2434 tasks      | elapsed:    0.6s\n",
      "[Parallel(n_jobs=8)]: Done 3184 tasks      | elapsed:    0.7s\n",
      "[Parallel(n_jobs=8)]: Done 4034 tasks      | elapsed:    0.9s\n",
      "[Parallel(n_jobs=8)]: Done 4984 tasks      | elapsed:    1.1s\n",
      "[Parallel(n_jobs=8)]: Done 5333 out of 5333 | elapsed:    1.2s finished\n"
     ]
    },
    {
     "data": {
      "text/plain": [
       "1.0"
      ]
     },
     "execution_count": 8,
     "metadata": {},
     "output_type": "execute_result"
    }
   ],
   "source": [
    "rfc.score(X_scaled,y)"
   ]
  },
  {
   "cell_type": "code",
   "execution_count": 9,
   "metadata": {},
   "outputs": [
    {
     "name": "stderr",
     "output_type": "stream",
     "text": [
      "[Parallel(n_jobs=8)]: Using backend ThreadingBackend with 8 concurrent workers.\n",
      "[Parallel(n_jobs=8)]: Done  34 tasks      | elapsed:    0.0s\n",
      "[Parallel(n_jobs=8)]: Done 184 tasks      | elapsed:    0.1s\n",
      "[Parallel(n_jobs=8)]: Done 434 tasks      | elapsed:    0.1s\n",
      "[Parallel(n_jobs=8)]: Done 784 tasks      | elapsed:    0.2s\n",
      "[Parallel(n_jobs=8)]: Done 1234 tasks      | elapsed:    0.3s\n",
      "[Parallel(n_jobs=8)]: Done 1784 tasks      | elapsed:    0.4s\n",
      "[Parallel(n_jobs=8)]: Done 2434 tasks      | elapsed:    0.6s\n",
      "[Parallel(n_jobs=8)]: Done 3184 tasks      | elapsed:    0.7s\n",
      "[Parallel(n_jobs=8)]: Done 4034 tasks      | elapsed:    0.9s\n",
      "[Parallel(n_jobs=8)]: Done 4984 tasks      | elapsed:    1.1s\n",
      "[Parallel(n_jobs=8)]: Done 5333 out of 5333 | elapsed:    1.2s finished\n"
     ]
    }
   ],
   "source": [
    "predictions = rfc.predict(X_scaled)"
   ]
  },
  {
   "cell_type": "code",
   "execution_count": 10,
   "metadata": {},
   "outputs": [
    {
     "data": {
      "text/plain": [
       "array(['Fast', 'Fast', 'Fast', ..., 'Fast', 'Fast', 'Fast'], dtype=object)"
      ]
     },
     "execution_count": 10,
     "metadata": {},
     "output_type": "execute_result"
    }
   ],
   "source": [
    "predictions"
   ]
  },
  {
   "cell_type": "code",
   "execution_count": 11,
   "metadata": {},
   "outputs": [],
   "source": [
    "import tensorflow as tf\n",
    "from tensorflow import keras\n",
    "from tensorflow.keras import layers"
   ]
  },
  {
   "cell_type": "code",
   "execution_count": 12,
   "metadata": {},
   "outputs": [],
   "source": [
    "my_model = tf.keras.models.load_model(\"my_TF1.9_model_copy_73acc.h5\")"
   ]
  },
  {
   "cell_type": "code",
   "execution_count": 13,
   "metadata": {},
   "outputs": [],
   "source": [
    "df = pd.read_csv('SubCh1_TrainingData.csv')"
   ]
  },
  {
   "cell_type": "code",
   "execution_count": 14,
   "metadata": {},
   "outputs": [],
   "source": [
    "df.set_index(\"Sample_Name\",inplace=True)"
   ]
  },
  {
   "cell_type": "code",
   "execution_count": 15,
   "metadata": {},
   "outputs": [],
   "source": [
    "df_edit = pd.concat( [df, pd.get_dummies(df[\"Treatment\"]),pd.get_dummies( df[\"Timepoint\"])]\n",
    "                         ,axis=1,sort=True )\n",
    "df = df_edit.drop([\"Treatment\",\"Timepoint\",\"BioRep\",\"Isolate\"],axis=1)"
   ]
  },
  {
   "cell_type": "code",
   "execution_count": 16,
   "metadata": {},
   "outputs": [],
   "source": [
    "y = df[\"DHA_IC50\"]\n",
    "X = df.drop(\"DHA_IC50\",axis=1)\n",
    "\n",
    "#df[[\"DHA\", \"UT\" ,\"24HR\", \"6HR\"]]"
   ]
  },
  {
   "cell_type": "code",
   "execution_count": 17,
   "metadata": {},
   "outputs": [],
   "source": [
    "# df_test = pd.read_csv(\"SubCh1_TestData.csv\")\n",
    "# df_test.set_index(\"Sample_Names\",inplace=True)\n",
    "# df_test_edit = pd.concat( [df_test, pd.get_dummies(df_test[\"Treatment\"]),pd.get_dummies( df_test[\"Timepoint\"])]\n",
    "#                          ,axis=1,sort=True )\n",
    "# df_test = df_test_edit.drop([\"Treatment\",\"Timepoint\",\"BioRep\",\"Isolate\"],axis=1)"
   ]
  },
  {
   "cell_type": "code",
   "execution_count": 8,
   "metadata": {},
   "outputs": [],
   "source": [
    "# X_test = df_test.drop(\"DHA_IC50\",axis=1)\n",
    "# y_test = df_test[\"DHA_IC50\"]"
   ]
  },
  {
   "cell_type": "code",
   "execution_count": 18,
   "metadata": {},
   "outputs": [],
   "source": [
    "scaler = StandardScaler()"
   ]
  },
  {
   "cell_type": "code",
   "execution_count": 19,
   "metadata": {},
   "outputs": [],
   "source": [
    "scaler.fit(X)\n",
    "X_scaled = scaler.transform(X)"
   ]
  },
  {
   "cell_type": "code",
   "execution_count": 20,
   "metadata": {},
   "outputs": [],
   "source": [
    "predictions_tf_model_SubCh1  = my_model.predict(X_scaled)"
   ]
  },
  {
   "cell_type": "code",
   "execution_count": 25,
   "metadata": {},
   "outputs": [],
   "source": [
    "predictions_TF19_subch1 = pd.DataFrame( predictions_tf_model_SubCh1, index=X.index , columns=[\"DHA_IC50\"])"
   ]
  },
  {
   "cell_type": "code",
   "execution_count": 29,
   "metadata": {},
   "outputs": [],
   "source": [
    "predictions_RF_subch2 =pd.DataFrame(predictions , index=X.index , columns=[\"ClearanceRate\"])"
   ]
  },
  {
   "cell_type": "code",
   "execution_count": 30,
   "metadata": {},
   "outputs": [],
   "source": [
    "predictions_TF19_subch1.to_csv(\"predictions_on_train_data_SubCh1_Didier_Barradas.csv\")\n",
    "predictions_RF_subch2.to_csv(\"predictions_on_train_data_SubCh2_Didier_Barradas.csv\")"
   ]
  },
  {
   "cell_type": "code",
   "execution_count": null,
   "metadata": {},
   "outputs": [],
   "source": []
  }
 ],
 "metadata": {
  "kernelspec": {
   "display_name": "Python 3",
   "language": "python",
   "name": "python3"
  },
  "language_info": {
   "codemirror_mode": {
    "name": "ipython",
    "version": 3
   },
   "file_extension": ".py",
   "mimetype": "text/x-python",
   "name": "python",
   "nbconvert_exporter": "python",
   "pygments_lexer": "ipython3",
   "version": "3.6.9"
  }
 },
 "nbformat": 4,
 "nbformat_minor": 4
}
