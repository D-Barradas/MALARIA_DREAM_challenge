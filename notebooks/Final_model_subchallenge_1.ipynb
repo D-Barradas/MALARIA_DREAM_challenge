{
 "cells": [
  {
   "cell_type": "code",
   "execution_count": 1,
   "metadata": {},
   "outputs": [],
   "source": [
    "import os ,sys \n",
    "import pandas as pd \n",
    "import matplotlib.pyplot as plt\n",
    "import numpy as np \n",
    "import seaborn as sns\n",
    "from sklearn.ensemble import RandomForestClassifier,RandomForestRegressor\n",
    "from sklearn.preprocessing import StandardScaler"
   ]
  },
  {
   "cell_type": "code",
   "execution_count": 2,
   "metadata": {},
   "outputs": [],
   "source": [
    "np.random.seed(seed = 101)"
   ]
  },
  {
   "cell_type": "code",
   "execution_count": 3,
   "metadata": {},
   "outputs": [],
   "source": [
    "df = pd.read_csv(\"SubCh1_TrainingData.csv\")\n",
    "df.set_index(\"Sample_Name\",inplace=True)"
   ]
  },
  {
   "cell_type": "code",
   "execution_count": 4,
   "metadata": {},
   "outputs": [],
   "source": [
    "df_edit = pd.concat( [df, pd.get_dummies(df[\"Treatment\"]),pd.get_dummies( df[\"Timepoint\"])]\n",
    "                         ,axis=1,sort=True )"
   ]
  },
  {
   "cell_type": "code",
   "execution_count": 5,
   "metadata": {},
   "outputs": [],
   "source": [
    "df = df_edit.drop([\"Treatment\",\"Timepoint\",\"BioRep\",\"Isolate\"],axis=1)"
   ]
  },
  {
   "cell_type": "code",
   "execution_count": 6,
   "metadata": {},
   "outputs": [],
   "source": [
    "y = df[\"DHA_IC50\"]\n",
    "X = df.drop(\"DHA_IC50\",axis=1)\n",
    "\n",
    "#df[[\"DHA\", \"UT\" ,\"24HR\", \"6HR\"]]"
   ]
  },
  {
   "cell_type": "code",
   "execution_count": 7,
   "metadata": {},
   "outputs": [],
   "source": [
    "df_test = pd.read_csv(\"SubCh1_TestData.csv\")\n",
    "df_test.set_index(\"Sample_Names\",inplace=True)\n",
    "df_test_edit = pd.concat( [df_test, pd.get_dummies(df_test[\"Treatment\"]),pd.get_dummies( df_test[\"Timepoint\"])]\n",
    "                         ,axis=1,sort=True )\n",
    "df_test = df_test_edit.drop([\"Treatment\",\"Timepoint\",\"BioRep\",\"Isolate\"],axis=1)\n"
   ]
  },
  {
   "cell_type": "code",
   "execution_count": 8,
   "metadata": {},
   "outputs": [],
   "source": [
    "\n",
    "X_test = df_test.drop(\"DHA_IC50\",axis=1)\n",
    "y_test = df_test[\"DHA_IC50\"]"
   ]
  },
  {
   "cell_type": "code",
   "execution_count": 9,
   "metadata": {},
   "outputs": [],
   "source": [
    "scaler = StandardScaler()"
   ]
  },
  {
   "cell_type": "code",
   "execution_count": 10,
   "metadata": {},
   "outputs": [],
   "source": [
    "scaler.fit(X)\n",
    "X_scaled = scaler.transform(X)"
   ]
  },
  {
   "cell_type": "code",
   "execution_count": 11,
   "metadata": {},
   "outputs": [],
   "source": [
    "X_test_scaled = scaler.transform(X_test)"
   ]
  },
  {
   "cell_type": "code",
   "execution_count": 12,
   "metadata": {},
   "outputs": [],
   "source": [
    "rf = RandomForestRegressor (bootstrap=False,\n",
    "                            n_jobs=-1,\n",
    "                            max_features=\"sqrt\",\n",
    "                            min_samples_split=10,\n",
    "                            max_depth=30,\n",
    "                            n_estimators=6333,\n",
    "                            min_samples_leaf=8\n",
    "                           ) "
   ]
  },
  {
   "cell_type": "code",
   "execution_count": 13,
   "metadata": {},
   "outputs": [
    {
     "data": {
      "text/plain": [
       "RandomForestRegressor(bootstrap=False, criterion='mse', max_depth=30,\n",
       "                      max_features='sqrt', max_leaf_nodes=None,\n",
       "                      min_impurity_decrease=0.0, min_impurity_split=None,\n",
       "                      min_samples_leaf=8, min_samples_split=10,\n",
       "                      min_weight_fraction_leaf=0.0, n_estimators=6333,\n",
       "                      n_jobs=-1, oob_score=False, random_state=None, verbose=0,\n",
       "                      warm_start=False)"
      ]
     },
     "execution_count": 13,
     "metadata": {},
     "output_type": "execute_result"
    }
   ],
   "source": [
    "rf.fit(X_scaled,y)"
   ]
  },
  {
   "cell_type": "code",
   "execution_count": 14,
   "metadata": {},
   "outputs": [],
   "source": [
    "y_pred = rf.predict(X_test_scaled)"
   ]
  },
  {
   "cell_type": "code",
   "execution_count": 21,
   "metadata": {},
   "outputs": [
    {
     "data": {
      "text/plain": [
       "Index(['MAL1.465720.465873.bc..rv..', 'MAL1.48287.48430....kr...can',\n",
       "       'MAL1.562126.562246.bc..r...', 'MAL1.59416.59687....kr...can',\n",
       "       'MAL1.616633.616682.......y.', 'MAL10.1139073.1139243....kr',\n",
       "       'MAL10.258733.258825.b...r..', 'MAL10.271753.271892.bcgkrvy',\n",
       "       'MAL10.273174.273239.....r..', 'MAL10.416036.416142...g....',\n",
       "       ...\n",
       "       'PF3D7_1479600', 'PF3D7_1479700', 'PF3D7_1479800', 'PF3D7_1479900',\n",
       "       'PF3D7_1480000', 'PF3D7_1480100', 'DHA', 'UT', '24HR', '6HR'],\n",
       "      dtype='object', length=5544)"
      ]
     },
     "execution_count": 21,
     "metadata": {},
     "output_type": "execute_result"
    }
   ],
   "source": [
    "X.columns"
   ]
  },
  {
   "cell_type": "code",
   "execution_count": 23,
   "metadata": {},
   "outputs": [
    {
     "data": {
      "text/plain": [
       "5544"
      ]
     },
     "execution_count": 23,
     "metadata": {},
     "output_type": "execute_result"
    }
   ],
   "source": [
    "rf.feature_importances_.size"
   ]
  },
  {
   "cell_type": "code",
   "execution_count": 26,
   "metadata": {},
   "outputs": [],
   "source": [
    "# df_test_edit.head()\n",
    "# for x,y in zip(X.columns,rf.feature_importances_):\n",
    "#     print (x,y)\n",
    "d = { 'Features':X.columns, 'Importances':rf.feature_importances_}\n",
    "df_features = pd.DataFrame(data=d)"
   ]
  },
  {
   "cell_type": "code",
   "execution_count": 29,
   "metadata": {},
   "outputs": [],
   "source": [
    "# X_test_scaled\n",
    "df_features.sort_values('Importances',inplace=True,ascending=False)"
   ]
  },
  {
   "cell_type": "code",
   "execution_count": 37,
   "metadata": {},
   "outputs": [
    {
     "data": {
      "text/html": [
       "<div>\n",
       "<style scoped>\n",
       "    .dataframe tbody tr th:only-of-type {\n",
       "        vertical-align: middle;\n",
       "    }\n",
       "\n",
       "    .dataframe tbody tr th {\n",
       "        vertical-align: top;\n",
       "    }\n",
       "\n",
       "    .dataframe thead th {\n",
       "        text-align: right;\n",
       "    }\n",
       "</style>\n",
       "<table border=\"1\" class=\"dataframe\">\n",
       "  <thead>\n",
       "    <tr style=\"text-align: right;\">\n",
       "      <th></th>\n",
       "      <th>Features</th>\n",
       "      <th>Importances</th>\n",
       "    </tr>\n",
       "  </thead>\n",
       "  <tbody>\n",
       "    <tr>\n",
       "      <th>4291</th>\n",
       "      <td>PF3D7_1326200</td>\n",
       "      <td>0.004056</td>\n",
       "    </tr>\n",
       "    <tr>\n",
       "      <th>3659</th>\n",
       "      <td>PF3D7_1217000</td>\n",
       "      <td>0.003661</td>\n",
       "    </tr>\n",
       "    <tr>\n",
       "      <th>175</th>\n",
       "      <td>PF3D7_0108200</td>\n",
       "      <td>0.003535</td>\n",
       "    </tr>\n",
       "    <tr>\n",
       "      <th>2943</th>\n",
       "      <td>PF3D7_1034000</td>\n",
       "      <td>0.003250</td>\n",
       "    </tr>\n",
       "    <tr>\n",
       "      <th>4106</th>\n",
       "      <td>PF3D7_1307700</td>\n",
       "      <td>0.003152</td>\n",
       "    </tr>\n",
       "    <tr>\n",
       "      <th>2320</th>\n",
       "      <td>PF3D7_0909200</td>\n",
       "      <td>0.002717</td>\n",
       "    </tr>\n",
       "    <tr>\n",
       "      <th>1534</th>\n",
       "      <td>PF3D7_0626200</td>\n",
       "      <td>0.002685</td>\n",
       "    </tr>\n",
       "    <tr>\n",
       "      <th>5003</th>\n",
       "      <td>PF3D7_1426400</td>\n",
       "      <td>0.002528</td>\n",
       "    </tr>\n",
       "    <tr>\n",
       "      <th>978</th>\n",
       "      <td>PF3D7_0502500</td>\n",
       "      <td>0.002503</td>\n",
       "    </tr>\n",
       "    <tr>\n",
       "      <th>1293</th>\n",
       "      <td>PF3D7_0602300</td>\n",
       "      <td>0.002480</td>\n",
       "    </tr>\n",
       "    <tr>\n",
       "      <th>2530</th>\n",
       "      <td>PF3D7_0930300</td>\n",
       "      <td>0.002413</td>\n",
       "    </tr>\n",
       "    <tr>\n",
       "      <th>2527</th>\n",
       "      <td>PF3D7_0930000</td>\n",
       "      <td>0.002399</td>\n",
       "    </tr>\n",
       "    <tr>\n",
       "      <th>2525</th>\n",
       "      <td>PF3D7_0929800</td>\n",
       "      <td>0.002325</td>\n",
       "    </tr>\n",
       "    <tr>\n",
       "      <th>1440</th>\n",
       "      <td>PF3D7_0616900</td>\n",
       "      <td>0.002284</td>\n",
       "    </tr>\n",
       "    <tr>\n",
       "      <th>1065</th>\n",
       "      <td>PF3D7_0511400</td>\n",
       "      <td>0.002220</td>\n",
       "    </tr>\n",
       "    <tr>\n",
       "      <th>4476</th>\n",
       "      <td>PF3D7_1344900</td>\n",
       "      <td>0.002141</td>\n",
       "    </tr>\n",
       "    <tr>\n",
       "      <th>381</th>\n",
       "      <td>PF3D7_0214100</td>\n",
       "      <td>0.002122</td>\n",
       "    </tr>\n",
       "    <tr>\n",
       "      <th>1654</th>\n",
       "      <td>PF3D7_0706700</td>\n",
       "      <td>0.002046</td>\n",
       "    </tr>\n",
       "    <tr>\n",
       "      <th>3112</th>\n",
       "      <td>PF3D7_1111800</td>\n",
       "      <td>0.001962</td>\n",
       "    </tr>\n",
       "    <tr>\n",
       "      <th>3511</th>\n",
       "      <td>PF3D7_1201900</td>\n",
       "      <td>0.001926</td>\n",
       "    </tr>\n",
       "    <tr>\n",
       "      <th>4791</th>\n",
       "      <td>PF3D7_1404500</td>\n",
       "      <td>0.001913</td>\n",
       "    </tr>\n",
       "    <tr>\n",
       "      <th>854</th>\n",
       "      <td>PF3D7_0415600</td>\n",
       "      <td>0.001807</td>\n",
       "    </tr>\n",
       "    <tr>\n",
       "      <th>3248</th>\n",
       "      <td>PF3D7_1125500</td>\n",
       "      <td>0.001805</td>\n",
       "    </tr>\n",
       "    <tr>\n",
       "      <th>2858</th>\n",
       "      <td>PF3D7_1025400</td>\n",
       "      <td>0.001798</td>\n",
       "    </tr>\n",
       "    <tr>\n",
       "      <th>1713</th>\n",
       "      <td>PF3D7_0713200</td>\n",
       "      <td>0.001783</td>\n",
       "    </tr>\n",
       "    <tr>\n",
       "      <th>99</th>\n",
       "      <td>MAL9.937155.937259.....r..</td>\n",
       "      <td>0.001743</td>\n",
       "    </tr>\n",
       "    <tr>\n",
       "      <th>382</th>\n",
       "      <td>PF3D7_0214200</td>\n",
       "      <td>0.001666</td>\n",
       "    </tr>\n",
       "    <tr>\n",
       "      <th>1432</th>\n",
       "      <td>PF3D7_0616100</td>\n",
       "      <td>0.001663</td>\n",
       "    </tr>\n",
       "    <tr>\n",
       "      <th>1592</th>\n",
       "      <td>PF3D7_0632700</td>\n",
       "      <td>0.001649</td>\n",
       "    </tr>\n",
       "    <tr>\n",
       "      <th>685</th>\n",
       "      <td>PF3D7_0321900</td>\n",
       "      <td>0.001643</td>\n",
       "    </tr>\n",
       "    <tr>\n",
       "      <th>3571</th>\n",
       "      <td>PF3D7_1208000</td>\n",
       "      <td>0.001619</td>\n",
       "    </tr>\n",
       "    <tr>\n",
       "      <th>1637</th>\n",
       "      <td>PF3D7_0704900</td>\n",
       "      <td>0.001614</td>\n",
       "    </tr>\n",
       "    <tr>\n",
       "      <th>879</th>\n",
       "      <td>PF3D7_0418100</td>\n",
       "      <td>0.001561</td>\n",
       "    </tr>\n",
       "    <tr>\n",
       "      <th>4704</th>\n",
       "      <td>PF3D7_1368100</td>\n",
       "      <td>0.001561</td>\n",
       "    </tr>\n",
       "    <tr>\n",
       "      <th>4467</th>\n",
       "      <td>PF3D7_1344000</td>\n",
       "      <td>0.001558</td>\n",
       "    </tr>\n",
       "    <tr>\n",
       "      <th>5038</th>\n",
       "      <td>PF3D7_1429800</td>\n",
       "      <td>0.001554</td>\n",
       "    </tr>\n",
       "    <tr>\n",
       "      <th>4670</th>\n",
       "      <td>PF3D7_1364700</td>\n",
       "      <td>0.001551</td>\n",
       "    </tr>\n",
       "    <tr>\n",
       "      <th>37</th>\n",
       "      <td>MAL14.1184520.1184577....k</td>\n",
       "      <td>0.001536</td>\n",
       "    </tr>\n",
       "    <tr>\n",
       "      <th>3421</th>\n",
       "      <td>PF3D7_1142900</td>\n",
       "      <td>0.001533</td>\n",
       "    </tr>\n",
       "    <tr>\n",
       "      <th>3877</th>\n",
       "      <td>PF3D7_1239000</td>\n",
       "      <td>0.001526</td>\n",
       "    </tr>\n",
       "    <tr>\n",
       "      <th>1877</th>\n",
       "      <td>PF3D7_0730100</td>\n",
       "      <td>0.001525</td>\n",
       "    </tr>\n",
       "    <tr>\n",
       "      <th>2676</th>\n",
       "      <td>PF3D7_1007100</td>\n",
       "      <td>0.001492</td>\n",
       "    </tr>\n",
       "    <tr>\n",
       "      <th>4665</th>\n",
       "      <td>PF3D7_1364200</td>\n",
       "      <td>0.001486</td>\n",
       "    </tr>\n",
       "    <tr>\n",
       "      <th>3077</th>\n",
       "      <td>PF3D7_1108300</td>\n",
       "      <td>0.001480</td>\n",
       "    </tr>\n",
       "    <tr>\n",
       "      <th>4644</th>\n",
       "      <td>PF3D7_1362100</td>\n",
       "      <td>0.001457</td>\n",
       "    </tr>\n",
       "    <tr>\n",
       "      <th>1569</th>\n",
       "      <td>PF3D7_0629700</td>\n",
       "      <td>0.001434</td>\n",
       "    </tr>\n",
       "    <tr>\n",
       "      <th>5470</th>\n",
       "      <td>PF3D7_1473000</td>\n",
       "      <td>0.001427</td>\n",
       "    </tr>\n",
       "    <tr>\n",
       "      <th>3976</th>\n",
       "      <td>PF3D7_1249200</td>\n",
       "      <td>0.001424</td>\n",
       "    </tr>\n",
       "    <tr>\n",
       "      <th>20</th>\n",
       "      <td>MAL12.1516930.1517011....k</td>\n",
       "      <td>0.001377</td>\n",
       "    </tr>\n",
       "    <tr>\n",
       "      <th>1337</th>\n",
       "      <td>PF3D7_0606700</td>\n",
       "      <td>0.001373</td>\n",
       "    </tr>\n",
       "  </tbody>\n",
       "</table>\n",
       "</div>"
      ],
      "text/plain": [
       "                        Features  Importances\n",
       "4291               PF3D7_1326200     0.004056\n",
       "3659               PF3D7_1217000     0.003661\n",
       "175                PF3D7_0108200     0.003535\n",
       "2943               PF3D7_1034000     0.003250\n",
       "4106               PF3D7_1307700     0.003152\n",
       "2320               PF3D7_0909200     0.002717\n",
       "1534               PF3D7_0626200     0.002685\n",
       "5003               PF3D7_1426400     0.002528\n",
       "978                PF3D7_0502500     0.002503\n",
       "1293               PF3D7_0602300     0.002480\n",
       "2530               PF3D7_0930300     0.002413\n",
       "2527               PF3D7_0930000     0.002399\n",
       "2525               PF3D7_0929800     0.002325\n",
       "1440               PF3D7_0616900     0.002284\n",
       "1065               PF3D7_0511400     0.002220\n",
       "4476               PF3D7_1344900     0.002141\n",
       "381                PF3D7_0214100     0.002122\n",
       "1654               PF3D7_0706700     0.002046\n",
       "3112               PF3D7_1111800     0.001962\n",
       "3511               PF3D7_1201900     0.001926\n",
       "4791               PF3D7_1404500     0.001913\n",
       "854                PF3D7_0415600     0.001807\n",
       "3248               PF3D7_1125500     0.001805\n",
       "2858               PF3D7_1025400     0.001798\n",
       "1713               PF3D7_0713200     0.001783\n",
       "99    MAL9.937155.937259.....r..     0.001743\n",
       "382                PF3D7_0214200     0.001666\n",
       "1432               PF3D7_0616100     0.001663\n",
       "1592               PF3D7_0632700     0.001649\n",
       "685                PF3D7_0321900     0.001643\n",
       "3571               PF3D7_1208000     0.001619\n",
       "1637               PF3D7_0704900     0.001614\n",
       "879                PF3D7_0418100     0.001561\n",
       "4704               PF3D7_1368100     0.001561\n",
       "4467               PF3D7_1344000     0.001558\n",
       "5038               PF3D7_1429800     0.001554\n",
       "4670               PF3D7_1364700     0.001551\n",
       "37    MAL14.1184520.1184577....k     0.001536\n",
       "3421               PF3D7_1142900     0.001533\n",
       "3877               PF3D7_1239000     0.001526\n",
       "1877               PF3D7_0730100     0.001525\n",
       "2676               PF3D7_1007100     0.001492\n",
       "4665               PF3D7_1364200     0.001486\n",
       "3077               PF3D7_1108300     0.001480\n",
       "4644               PF3D7_1362100     0.001457\n",
       "1569               PF3D7_0629700     0.001434\n",
       "5470               PF3D7_1473000     0.001427\n",
       "3976               PF3D7_1249200     0.001424\n",
       "20    MAL12.1516930.1517011....k     0.001377\n",
       "1337               PF3D7_0606700     0.001373"
      ]
     },
     "execution_count": 37,
     "metadata": {},
     "output_type": "execute_result"
    }
   ],
   "source": [
    "df_features.head(n=50)"
   ]
  },
  {
   "cell_type": "code",
   "execution_count": 38,
   "metadata": {},
   "outputs": [],
   "source": [
    "df_pred= pd.DataFrame(y_pred,index=X_test.index,columns=[\"DHA_IC50\"])"
   ]
  },
  {
   "cell_type": "code",
   "execution_count": 39,
   "metadata": {},
   "outputs": [],
   "source": [
    "df_pred[\"Isolate2\"]=df_pred.index"
   ]
  },
  {
   "cell_type": "code",
   "execution_count": 41,
   "metadata": {},
   "outputs": [],
   "source": [
    "df_pred[\"Isolate\"]= df_pred[\"Isolate2\"].apply( lambda x: x.split(\".\")[0] )\n",
    "df_pred.drop(\"Isolate2\",axis=1,inplace=True)"
   ]
  },
  {
   "cell_type": "code",
   "execution_count": 44,
   "metadata": {},
   "outputs": [],
   "source": [
    "df_pred= df_pred[[\"Isolate\",\"DHA_IC50\"]]"
   ]
  },
  {
   "cell_type": "code",
   "execution_count": 45,
   "metadata": {},
   "outputs": [],
   "source": [
    "df_pred.to_csv(\"SubCh1_Submission_DBB.txt\",sep=\"/t\",index=False)"
   ]
  },
  {
   "cell_type": "code",
   "execution_count": null,
   "metadata": {},
   "outputs": [],
   "source": []
  },
  {
   "cell_type": "code",
   "execution_count": null,
   "metadata": {},
   "outputs": [],
   "source": []
  }
 ],
 "metadata": {
  "kernelspec": {
   "display_name": "Python 2",
   "language": "python",
   "name": "python2"
  },
  "language_info": {
   "codemirror_mode": {
    "name": "ipython",
    "version": 2
   },
   "file_extension": ".py",
   "mimetype": "text/x-python",
   "name": "python",
   "nbconvert_exporter": "python",
   "pygments_lexer": "ipython2",
   "version": "2.7.14"
  }
 },
 "nbformat": 4,
 "nbformat_minor": 4
}
