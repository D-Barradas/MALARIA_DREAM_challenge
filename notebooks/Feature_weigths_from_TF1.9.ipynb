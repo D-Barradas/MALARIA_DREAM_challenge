{
 "cells": [
  {
   "cell_type": "code",
   "execution_count": 1,
   "metadata": {},
   "outputs": [
    {
     "name": "stderr",
     "output_type": "stream",
     "text": [
      "/Users/barradd/anaconda2/lib/python2.7/site-packages/h5py/__init__.py:36: FutureWarning: Conversion of the second argument of issubdtype from `float` to `np.floating` is deprecated. In future, it will be treated as `np.float64 == np.dtype(float).type`.\n",
      "  from ._conv import register_converters as _register_converters\n"
     ]
    }
   ],
   "source": [
    "import os ,sys \n",
    "import pandas as pd \n",
    "import matplotlib.pyplot as plt\n",
    "import numpy as np \n",
    "from sklearn.preprocessing import StandardScaler\n",
    "from sklearn.model_selection import train_test_split\n",
    "import tensorflow as tf\n",
    "from tensorflow import keras\n",
    "from tensorflow.keras import layers"
   ]
  },
  {
   "cell_type": "code",
   "execution_count": 2,
   "metadata": {},
   "outputs": [],
   "source": [
    "seed = 101\n",
    "tf.set_random_seed(seed)\n",
    "np.random.seed(seed)"
   ]
  },
  {
   "cell_type": "code",
   "execution_count": 3,
   "metadata": {},
   "outputs": [],
   "source": [
    "my_model = tf.keras.models.load_model(\"my_TF1.9_model_copy_73acc.h5\")"
   ]
  },
  {
   "cell_type": "code",
   "execution_count": 4,
   "metadata": {},
   "outputs": [
    {
     "name": "stdout",
     "output_type": "stream",
     "text": [
      "_________________________________________________________________\n",
      "Layer (type)                 Output Shape              Param #   \n",
      "=================================================================\n",
      "dense (Dense)                (None, 640)               3548800   \n",
      "_________________________________________________________________\n",
      "dense_1 (Dense)              (None, 640)               410240    \n",
      "_________________________________________________________________\n",
      "dense_2 (Dense)              (None, 640)               410240    \n",
      "_________________________________________________________________\n",
      "dense_3 (Dense)              (None, 640)               410240    \n",
      "_________________________________________________________________\n",
      "dense_4 (Dense)              (None, 640)               410240    \n",
      "_________________________________________________________________\n",
      "dense_5 (Dense)              (None, 64)                41024     \n",
      "_________________________________________________________________\n",
      "dense_6 (Dense)              (None, 64)                4160      \n",
      "_________________________________________________________________\n",
      "dense_7 (Dense)              (None, 64)                4160      \n",
      "_________________________________________________________________\n",
      "dense_8 (Dense)              (None, 64)                4160      \n",
      "_________________________________________________________________\n",
      "dense_9 (Dense)              (None, 1)                 65        \n",
      "=================================================================\n",
      "Total params: 5,243,329\n",
      "Trainable params: 5,243,329\n",
      "Non-trainable params: 0\n",
      "_________________________________________________________________\n"
     ]
    }
   ],
   "source": [
    "my_model.summary()"
   ]
  },
  {
   "cell_type": "code",
   "execution_count": 6,
   "metadata": {},
   "outputs": [
    {
     "data": {
      "text/plain": [
       "3548160"
      ]
     },
     "execution_count": 6,
     "metadata": {},
     "output_type": "execute_result"
    }
   ],
   "source": [
    "my_model.get_weights()[0].size"
   ]
  },
  {
   "cell_type": "code",
   "execution_count": 12,
   "metadata": {},
   "outputs": [
    {
     "data": {
      "text/plain": [
       "(640,)"
      ]
     },
     "execution_count": 12,
     "metadata": {},
     "output_type": "execute_result"
    }
   ],
   "source": [
    "my_model.get_weights()[0][0].shape"
   ]
  },
  {
   "cell_type": "code",
   "execution_count": 5,
   "metadata": {},
   "outputs": [],
   "source": [
    "my_matrix  = np.identity(5544)"
   ]
  },
  {
   "cell_type": "code",
   "execution_count": 6,
   "metadata": {},
   "outputs": [],
   "source": [
    "one = list(my_matrix[0])"
   ]
  },
  {
   "cell_type": "code",
   "execution_count": 7,
   "metadata": {},
   "outputs": [],
   "source": [
    "One  = my_matrix[1]"
   ]
  },
  {
   "cell_type": "code",
   "execution_count": 8,
   "metadata": {},
   "outputs": [
    {
     "data": {
      "text/plain": [
       "(5544,)"
      ]
     },
     "execution_count": 8,
     "metadata": {},
     "output_type": "execute_result"
    }
   ],
   "source": [
    "One.shape"
   ]
  },
  {
   "cell_type": "code",
   "execution_count": 9,
   "metadata": {},
   "outputs": [],
   "source": [
    "One = One.reshape((1,5544))"
   ]
  },
  {
   "cell_type": "code",
   "execution_count": 10,
   "metadata": {},
   "outputs": [
    {
     "data": {
      "text/plain": [
       "(1, 5544)"
      ]
     },
     "execution_count": 10,
     "metadata": {},
     "output_type": "execute_result"
    }
   ],
   "source": [
    "One.shape"
   ]
  },
  {
   "cell_type": "code",
   "execution_count": 11,
   "metadata": {},
   "outputs": [],
   "source": [
    "test_predictions = my_model.predict(my_matrix).flatten()"
   ]
  },
  {
   "cell_type": "code",
   "execution_count": 12,
   "metadata": {},
   "outputs": [],
   "source": [
    "df = pd.read_csv('SubCh1_TrainingData.csv')\n",
    "df.set_index(\"Sample_Name\",inplace=True)\n",
    "df_edit = pd.concat( [df, pd.get_dummies(df[\"Treatment\"]),pd.get_dummies( df[\"Timepoint\"])]\n",
    "                         ,axis=1,sort=True )\n",
    "df = df_edit.drop([\"Treatment\",\"Timepoint\",\"BioRep\",\"Isolate\",\"DHA_IC50\"],axis=1)"
   ]
  },
  {
   "cell_type": "code",
   "execution_count": 13,
   "metadata": {},
   "outputs": [
    {
     "data": {
      "text/plain": [
       "(272, 5544)"
      ]
     },
     "execution_count": 13,
     "metadata": {},
     "output_type": "execute_result"
    }
   ],
   "source": [
    "df.shape"
   ]
  },
  {
   "cell_type": "code",
   "execution_count": 14,
   "metadata": {},
   "outputs": [],
   "source": [
    "my_list = [] \n",
    "for m,n in zip(df.columns,test_predictions):\n",
    "    my_list.append ((m,n))"
   ]
  },
  {
   "cell_type": "code",
   "execution_count": 15,
   "metadata": {},
   "outputs": [],
   "source": [
    "my_var_proxy_w = pd.DataFrame(my_list)\n",
    "my_var_proxy_w.columns = [\"Feature\",\"W\"]"
   ]
  },
  {
   "cell_type": "code",
   "execution_count": 16,
   "metadata": {},
   "outputs": [],
   "source": [
    "my_var_proxy_w.sort_values(by=\"W\",inplace=True,ascending=False) "
   ]
  },
  {
   "cell_type": "code",
   "execution_count": 17,
   "metadata": {},
   "outputs": [
    {
     "data": {
      "text/html": [
       "<div>\n",
       "<style scoped>\n",
       "    .dataframe tbody tr th:only-of-type {\n",
       "        vertical-align: middle;\n",
       "    }\n",
       "\n",
       "    .dataframe tbody tr th {\n",
       "        vertical-align: top;\n",
       "    }\n",
       "\n",
       "    .dataframe thead th {\n",
       "        text-align: right;\n",
       "    }\n",
       "</style>\n",
       "<table border=\"1\" class=\"dataframe\">\n",
       "  <thead>\n",
       "    <tr style=\"text-align: right;\">\n",
       "      <th></th>\n",
       "      <th>Feature</th>\n",
       "      <th>W</th>\n",
       "    </tr>\n",
       "  </thead>\n",
       "  <tbody>\n",
       "    <tr>\n",
       "      <th>4727</th>\n",
       "      <td>PF3D7_1370500</td>\n",
       "      <td>1.154073</td>\n",
       "    </tr>\n",
       "    <tr>\n",
       "      <th>4</th>\n",
       "      <td>MAL1.616633.616682.......y.</td>\n",
       "      <td>1.154120</td>\n",
       "    </tr>\n",
       "    <tr>\n",
       "      <th>3381</th>\n",
       "      <td>PF3D7_1138900</td>\n",
       "      <td>1.154128</td>\n",
       "    </tr>\n",
       "    <tr>\n",
       "      <th>3674</th>\n",
       "      <td>PF3D7_1218500</td>\n",
       "      <td>1.154138</td>\n",
       "    </tr>\n",
       "    <tr>\n",
       "      <th>4048</th>\n",
       "      <td>PF3D7_1301900</td>\n",
       "      <td>1.154140</td>\n",
       "    </tr>\n",
       "    <tr>\n",
       "      <th>1530</th>\n",
       "      <td>PF3D7_0625800</td>\n",
       "      <td>1.154141</td>\n",
       "    </tr>\n",
       "    <tr>\n",
       "      <th>1202</th>\n",
       "      <td>PF3D7_0525100</td>\n",
       "      <td>1.154142</td>\n",
       "    </tr>\n",
       "    <tr>\n",
       "      <th>168</th>\n",
       "      <td>PF3D7_0107500</td>\n",
       "      <td>1.154142</td>\n",
       "    </tr>\n",
       "    <tr>\n",
       "      <th>95</th>\n",
       "      <td>MAL9.19955.20066.....r...c</td>\n",
       "      <td>1.154146</td>\n",
       "    </tr>\n",
       "    <tr>\n",
       "      <th>217</th>\n",
       "      <td>PF3D7_0112800</td>\n",
       "      <td>1.154148</td>\n",
       "    </tr>\n",
       "    <tr>\n",
       "      <th>5203</th>\n",
       "      <td>PF3D7_1446300</td>\n",
       "      <td>1.154150</td>\n",
       "    </tr>\n",
       "    <tr>\n",
       "      <th>4772</th>\n",
       "      <td>PF3D7_1402600</td>\n",
       "      <td>1.154153</td>\n",
       "    </tr>\n",
       "    <tr>\n",
       "      <th>3442</th>\n",
       "      <td>PF3D7_1145000</td>\n",
       "      <td>1.154157</td>\n",
       "    </tr>\n",
       "    <tr>\n",
       "      <th>3462</th>\n",
       "      <td>PF3D7_1147100</td>\n",
       "      <td>1.154159</td>\n",
       "    </tr>\n",
       "    <tr>\n",
       "      <th>5294</th>\n",
       "      <td>PF3D7_1455400</td>\n",
       "      <td>1.154163</td>\n",
       "    </tr>\n",
       "    <tr>\n",
       "      <th>2325</th>\n",
       "      <td>PF3D7_0909700</td>\n",
       "      <td>1.154163</td>\n",
       "    </tr>\n",
       "    <tr>\n",
       "      <th>3649</th>\n",
       "      <td>PF3D7_1215900</td>\n",
       "      <td>1.154163</td>\n",
       "    </tr>\n",
       "    <tr>\n",
       "      <th>2217</th>\n",
       "      <td>PF3D7_0832200.1</td>\n",
       "      <td>1.154163</td>\n",
       "    </tr>\n",
       "    <tr>\n",
       "      <th>2195</th>\n",
       "      <td>PF3D7_0829900</td>\n",
       "      <td>1.154164</td>\n",
       "    </tr>\n",
       "    <tr>\n",
       "      <th>4464</th>\n",
       "      <td>PF3D7_1343700</td>\n",
       "      <td>1.154166</td>\n",
       "    </tr>\n",
       "    <tr>\n",
       "      <th>112</th>\n",
       "      <td>PF3D7_0101900</td>\n",
       "      <td>1.154167</td>\n",
       "    </tr>\n",
       "    <tr>\n",
       "      <th>2792</th>\n",
       "      <td>PF3D7_1018800</td>\n",
       "      <td>1.154172</td>\n",
       "    </tr>\n",
       "    <tr>\n",
       "      <th>5059</th>\n",
       "      <td>PF3D7_1431900</td>\n",
       "      <td>1.154174</td>\n",
       "    </tr>\n",
       "    <tr>\n",
       "      <th>175</th>\n",
       "      <td>PF3D7_0108200</td>\n",
       "      <td>1.154174</td>\n",
       "    </tr>\n",
       "    <tr>\n",
       "      <th>769</th>\n",
       "      <td>PF3D7_0406500</td>\n",
       "      <td>1.154175</td>\n",
       "    </tr>\n",
       "    <tr>\n",
       "      <th>4856</th>\n",
       "      <td>PF3D7_1410900</td>\n",
       "      <td>1.154179</td>\n",
       "    </tr>\n",
       "    <tr>\n",
       "      <th>918</th>\n",
       "      <td>PF3D7_0422300</td>\n",
       "      <td>1.154180</td>\n",
       "    </tr>\n",
       "    <tr>\n",
       "      <th>55</th>\n",
       "      <td>MAL4.1064246.1064397.....r</td>\n",
       "      <td>1.154182</td>\n",
       "    </tr>\n",
       "    <tr>\n",
       "      <th>544</th>\n",
       "      <td>PF3D7_0307800</td>\n",
       "      <td>1.154182</td>\n",
       "    </tr>\n",
       "    <tr>\n",
       "      <th>97</th>\n",
       "      <td>MAL9.762972.763080...gk.vy</td>\n",
       "      <td>1.154183</td>\n",
       "    </tr>\n",
       "    <tr>\n",
       "      <th>2046</th>\n",
       "      <td>PF3D7_0814900</td>\n",
       "      <td>1.154184</td>\n",
       "    </tr>\n",
       "    <tr>\n",
       "      <th>2950</th>\n",
       "      <td>PF3D7_1034700</td>\n",
       "      <td>1.154184</td>\n",
       "    </tr>\n",
       "    <tr>\n",
       "      <th>3473</th>\n",
       "      <td>PF3D7_1148200</td>\n",
       "      <td>1.154185</td>\n",
       "    </tr>\n",
       "    <tr>\n",
       "      <th>2983</th>\n",
       "      <td>PF3D7_1038200</td>\n",
       "      <td>1.154185</td>\n",
       "    </tr>\n",
       "    <tr>\n",
       "      <th>635</th>\n",
       "      <td>PF3D7_0316900</td>\n",
       "      <td>1.154185</td>\n",
       "    </tr>\n",
       "    <tr>\n",
       "      <th>4875</th>\n",
       "      <td>PF3D7_1412800</td>\n",
       "      <td>1.154185</td>\n",
       "    </tr>\n",
       "    <tr>\n",
       "      <th>484</th>\n",
       "      <td>PF3D7_0301800</td>\n",
       "      <td>1.154186</td>\n",
       "    </tr>\n",
       "    <tr>\n",
       "      <th>2583</th>\n",
       "      <td>PF3D7_0935600</td>\n",
       "      <td>1.154188</td>\n",
       "    </tr>\n",
       "    <tr>\n",
       "      <th>1324</th>\n",
       "      <td>PF3D7_0605400</td>\n",
       "      <td>1.154189</td>\n",
       "    </tr>\n",
       "    <tr>\n",
       "      <th>2467</th>\n",
       "      <td>PF3D7_0924000</td>\n",
       "      <td>1.154191</td>\n",
       "    </tr>\n",
       "    <tr>\n",
       "      <th>1370</th>\n",
       "      <td>PF3D7_0609900</td>\n",
       "      <td>1.154194</td>\n",
       "    </tr>\n",
       "    <tr>\n",
       "      <th>4899</th>\n",
       "      <td>PF3D7_1415200</td>\n",
       "      <td>1.154194</td>\n",
       "    </tr>\n",
       "    <tr>\n",
       "      <th>1643</th>\n",
       "      <td>PF3D7_0705500</td>\n",
       "      <td>1.154194</td>\n",
       "    </tr>\n",
       "    <tr>\n",
       "      <th>3216</th>\n",
       "      <td>PF3D7_1122300</td>\n",
       "      <td>1.154196</td>\n",
       "    </tr>\n",
       "    <tr>\n",
       "      <th>4683</th>\n",
       "      <td>PF3D7_1366000</td>\n",
       "      <td>1.154196</td>\n",
       "    </tr>\n",
       "    <tr>\n",
       "      <th>1996</th>\n",
       "      <td>PF3D7_0809900</td>\n",
       "      <td>1.154197</td>\n",
       "    </tr>\n",
       "    <tr>\n",
       "      <th>3672</th>\n",
       "      <td>PF3D7_1218300</td>\n",
       "      <td>1.154197</td>\n",
       "    </tr>\n",
       "    <tr>\n",
       "      <th>4665</th>\n",
       "      <td>PF3D7_1364200</td>\n",
       "      <td>1.154197</td>\n",
       "    </tr>\n",
       "    <tr>\n",
       "      <th>1915</th>\n",
       "      <td>PF3D7_0801400</td>\n",
       "      <td>1.154199</td>\n",
       "    </tr>\n",
       "    <tr>\n",
       "      <th>3224</th>\n",
       "      <td>PF3D7_1123100</td>\n",
       "      <td>1.154199</td>\n",
       "    </tr>\n",
       "    <tr>\n",
       "      <th>4847</th>\n",
       "      <td>PF3D7_1410000</td>\n",
       "      <td>1.154199</td>\n",
       "    </tr>\n",
       "    <tr>\n",
       "      <th>1329</th>\n",
       "      <td>PF3D7_0605900</td>\n",
       "      <td>1.154199</td>\n",
       "    </tr>\n",
       "    <tr>\n",
       "      <th>5211</th>\n",
       "      <td>PF3D7_1447100</td>\n",
       "      <td>1.154200</td>\n",
       "    </tr>\n",
       "    <tr>\n",
       "      <th>3598</th>\n",
       "      <td>PF3D7_1210600</td>\n",
       "      <td>1.154200</td>\n",
       "    </tr>\n",
       "    <tr>\n",
       "      <th>3384</th>\n",
       "      <td>PF3D7_1139200</td>\n",
       "      <td>1.154201</td>\n",
       "    </tr>\n",
       "  </tbody>\n",
       "</table>\n",
       "</div>"
      ],
      "text/plain": [
       "                          Feature         W\n",
       "4727                PF3D7_1370500  1.154073\n",
       "4     MAL1.616633.616682.......y.  1.154120\n",
       "3381                PF3D7_1138900  1.154128\n",
       "3674                PF3D7_1218500  1.154138\n",
       "4048                PF3D7_1301900  1.154140\n",
       "1530                PF3D7_0625800  1.154141\n",
       "1202                PF3D7_0525100  1.154142\n",
       "168                 PF3D7_0107500  1.154142\n",
       "95     MAL9.19955.20066.....r...c  1.154146\n",
       "217                 PF3D7_0112800  1.154148\n",
       "5203                PF3D7_1446300  1.154150\n",
       "4772                PF3D7_1402600  1.154153\n",
       "3442                PF3D7_1145000  1.154157\n",
       "3462                PF3D7_1147100  1.154159\n",
       "5294                PF3D7_1455400  1.154163\n",
       "2325                PF3D7_0909700  1.154163\n",
       "3649                PF3D7_1215900  1.154163\n",
       "2217              PF3D7_0832200.1  1.154163\n",
       "2195                PF3D7_0829900  1.154164\n",
       "4464                PF3D7_1343700  1.154166\n",
       "112                 PF3D7_0101900  1.154167\n",
       "2792                PF3D7_1018800  1.154172\n",
       "5059                PF3D7_1431900  1.154174\n",
       "175                 PF3D7_0108200  1.154174\n",
       "769                 PF3D7_0406500  1.154175\n",
       "4856                PF3D7_1410900  1.154179\n",
       "918                 PF3D7_0422300  1.154180\n",
       "55     MAL4.1064246.1064397.....r  1.154182\n",
       "544                 PF3D7_0307800  1.154182\n",
       "97     MAL9.762972.763080...gk.vy  1.154183\n",
       "2046                PF3D7_0814900  1.154184\n",
       "2950                PF3D7_1034700  1.154184\n",
       "3473                PF3D7_1148200  1.154185\n",
       "2983                PF3D7_1038200  1.154185\n",
       "635                 PF3D7_0316900  1.154185\n",
       "4875                PF3D7_1412800  1.154185\n",
       "484                 PF3D7_0301800  1.154186\n",
       "2583                PF3D7_0935600  1.154188\n",
       "1324                PF3D7_0605400  1.154189\n",
       "2467                PF3D7_0924000  1.154191\n",
       "1370                PF3D7_0609900  1.154194\n",
       "4899                PF3D7_1415200  1.154194\n",
       "1643                PF3D7_0705500  1.154194\n",
       "3216                PF3D7_1122300  1.154196\n",
       "4683                PF3D7_1366000  1.154196\n",
       "1996                PF3D7_0809900  1.154197\n",
       "3672                PF3D7_1218300  1.154197\n",
       "4665                PF3D7_1364200  1.154197\n",
       "1915                PF3D7_0801400  1.154199\n",
       "3224                PF3D7_1123100  1.154199\n",
       "4847                PF3D7_1410000  1.154199\n",
       "1329                PF3D7_0605900  1.154199\n",
       "5211                PF3D7_1447100  1.154200\n",
       "3598                PF3D7_1210600  1.154200\n",
       "3384                PF3D7_1139200  1.154201"
      ]
     },
     "execution_count": 17,
     "metadata": {},
     "output_type": "execute_result"
    }
   ],
   "source": [
    "my_var_proxy_w.head(n=55)"
   ]
  },
  {
   "cell_type": "code",
   "execution_count": 18,
   "metadata": {},
   "outputs": [],
   "source": [
    "from sklearn.preprocessing import MinMaxScaler"
   ]
  },
  {
   "cell_type": "code",
   "execution_count": 19,
   "metadata": {},
   "outputs": [],
   "source": [
    "scaler = MinMaxScaler()"
   ]
  },
  {
   "cell_type": "code",
   "execution_count": 20,
   "metadata": {},
   "outputs": [
    {
     "data": {
      "text/plain": [
       "MinMaxScaler(copy=True, feature_range=(0, 1))"
      ]
     },
     "execution_count": 20,
     "metadata": {},
     "output_type": "execute_result"
    }
   ],
   "source": [
    "scaler.fit(test_predictions.reshape(-1, 1))"
   ]
  },
  {
   "cell_type": "code",
   "execution_count": 21,
   "metadata": {},
   "outputs": [],
   "source": [
    "prd_sc = scaler.transform(test_predictions.reshape(-1, 1))"
   ]
  },
  {
   "cell_type": "code",
   "execution_count": 22,
   "metadata": {},
   "outputs": [
    {
     "data": {
      "text/plain": [
       "726.69366"
      ]
     },
     "execution_count": 22,
     "metadata": {},
     "output_type": "execute_result"
    }
   ],
   "source": [
    "prd_sc.sum()"
   ]
  },
  {
   "cell_type": "code",
   "execution_count": 23,
   "metadata": {},
   "outputs": [],
   "source": [
    "my_list = [] \n",
    "for m,n,z in zip(df.columns,test_predictions,prd_sc):\n",
    "    my_list.append ((m,n,z))"
   ]
  },
  {
   "cell_type": "code",
   "execution_count": 24,
   "metadata": {},
   "outputs": [],
   "source": [
    "my_var_proxy_w = pd.DataFrame(my_list)\n",
    "my_var_proxy_w.columns = [\"Feature\",\"W\",\"Scaled\"]"
   ]
  },
  {
   "cell_type": "code",
   "execution_count": 25,
   "metadata": {},
   "outputs": [],
   "source": [
    "my_var_proxy_w.sort_values(by=\"W\",inplace=True,ascending=False)"
   ]
  },
  {
   "cell_type": "code",
   "execution_count": 26,
   "metadata": {},
   "outputs": [
    {
     "data": {
      "text/html": [
       "<div>\n",
       "<style scoped>\n",
       "    .dataframe tbody tr th:only-of-type {\n",
       "        vertical-align: middle;\n",
       "    }\n",
       "\n",
       "    .dataframe tbody tr th {\n",
       "        vertical-align: top;\n",
       "    }\n",
       "\n",
       "    .dataframe thead th {\n",
       "        text-align: right;\n",
       "    }\n",
       "</style>\n",
       "<table border=\"1\" class=\"dataframe\">\n",
       "  <thead>\n",
       "    <tr style=\"text-align: right;\">\n",
       "      <th></th>\n",
       "      <th>Feature</th>\n",
       "      <th>W</th>\n",
       "      <th>Scaled</th>\n",
       "    </tr>\n",
       "  </thead>\n",
       "  <tbody>\n",
       "    <tr>\n",
       "      <th>1183</th>\n",
       "      <td>PF3D7_0523200</td>\n",
       "      <td>1.156547</td>\n",
       "      <td>[1.0]</td>\n",
       "    </tr>\n",
       "    <tr>\n",
       "      <th>3003</th>\n",
       "      <td>PF3D7_1040700</td>\n",
       "      <td>1.156544</td>\n",
       "      <td>[0.9987488]</td>\n",
       "    </tr>\n",
       "    <tr>\n",
       "      <th>5527</th>\n",
       "      <td>PF3D7_1478700</td>\n",
       "      <td>1.156297</td>\n",
       "      <td>[0.89886475]</td>\n",
       "    </tr>\n",
       "    <tr>\n",
       "      <th>251</th>\n",
       "      <td>PF3D7_0201000</td>\n",
       "      <td>1.155984</td>\n",
       "      <td>[0.77249146]</td>\n",
       "    </tr>\n",
       "    <tr>\n",
       "      <th>4489</th>\n",
       "      <td>PF3D7_1346200</td>\n",
       "      <td>1.155923</td>\n",
       "      <td>[0.74783325]</td>\n",
       "    </tr>\n",
       "    <tr>\n",
       "      <th>2755</th>\n",
       "      <td>PF3D7_1015100</td>\n",
       "      <td>1.155877</td>\n",
       "      <td>[0.729187]</td>\n",
       "    </tr>\n",
       "    <tr>\n",
       "      <th>2239</th>\n",
       "      <td>PF3D7_0901000</td>\n",
       "      <td>1.155791</td>\n",
       "      <td>[0.69436646]</td>\n",
       "    </tr>\n",
       "    <tr>\n",
       "      <th>3001</th>\n",
       "      <td>PF3D7_1040500</td>\n",
       "      <td>1.155707</td>\n",
       "      <td>[0.6605835]</td>\n",
       "    </tr>\n",
       "    <tr>\n",
       "      <th>3002</th>\n",
       "      <td>PF3D7_1040600</td>\n",
       "      <td>1.155618</td>\n",
       "      <td>[0.62438965]</td>\n",
       "    </tr>\n",
       "    <tr>\n",
       "      <th>1655</th>\n",
       "      <td>PF3D7_0706800</td>\n",
       "      <td>1.155524</td>\n",
       "      <td>[0.58639526]</td>\n",
       "    </tr>\n",
       "    <tr>\n",
       "      <th>1747</th>\n",
       "      <td>PF3D7_0716700</td>\n",
       "      <td>1.155492</td>\n",
       "      <td>[0.5736389]</td>\n",
       "    </tr>\n",
       "    <tr>\n",
       "      <th>1725</th>\n",
       "      <td>PF3D7_0714400</td>\n",
       "      <td>1.155423</td>\n",
       "      <td>[0.54577637]</td>\n",
       "    </tr>\n",
       "    <tr>\n",
       "      <th>1091</th>\n",
       "      <td>PF3D7_0514000</td>\n",
       "      <td>1.155420</td>\n",
       "      <td>[0.5444641]</td>\n",
       "    </tr>\n",
       "    <tr>\n",
       "      <th>1446</th>\n",
       "      <td>PF3D7_0617500</td>\n",
       "      <td>1.155420</td>\n",
       "      <td>[0.5444336]</td>\n",
       "    </tr>\n",
       "    <tr>\n",
       "      <th>4722</th>\n",
       "      <td>PF3D7_1370000</td>\n",
       "      <td>1.155351</td>\n",
       "      <td>[0.5164795]</td>\n",
       "    </tr>\n",
       "    <tr>\n",
       "      <th>3750</th>\n",
       "      <td>PF3D7_1226100</td>\n",
       "      <td>1.155334</td>\n",
       "      <td>[0.50964355]</td>\n",
       "    </tr>\n",
       "    <tr>\n",
       "      <th>4023</th>\n",
       "      <td>PF3D7_1254200</td>\n",
       "      <td>1.155326</td>\n",
       "      <td>[0.5062561]</td>\n",
       "    </tr>\n",
       "    <tr>\n",
       "      <th>1285</th>\n",
       "      <td>PF3D7_0600900</td>\n",
       "      <td>1.155225</td>\n",
       "      <td>[0.46566772]</td>\n",
       "    </tr>\n",
       "    <tr>\n",
       "      <th>1167</th>\n",
       "      <td>PF3D7_0521600</td>\n",
       "      <td>1.155219</td>\n",
       "      <td>[0.46328735]</td>\n",
       "    </tr>\n",
       "    <tr>\n",
       "      <th>724</th>\n",
       "      <td>PF3D7_0401700</td>\n",
       "      <td>1.155194</td>\n",
       "      <td>[0.45321655]</td>\n",
       "    </tr>\n",
       "    <tr>\n",
       "      <th>1228</th>\n",
       "      <td>PF3D7_0527700</td>\n",
       "      <td>1.155161</td>\n",
       "      <td>[0.4399414]</td>\n",
       "    </tr>\n",
       "    <tr>\n",
       "      <th>4751</th>\n",
       "      <td>PF3D7_1400400</td>\n",
       "      <td>1.155111</td>\n",
       "      <td>[0.41973877]</td>\n",
       "    </tr>\n",
       "    <tr>\n",
       "      <th>4026</th>\n",
       "      <td>PF3D7_1254500</td>\n",
       "      <td>1.155077</td>\n",
       "      <td>[0.40597534]</td>\n",
       "    </tr>\n",
       "    <tr>\n",
       "      <th>2851</th>\n",
       "      <td>PF3D7_1024700</td>\n",
       "      <td>1.155077</td>\n",
       "      <td>[0.40567017]</td>\n",
       "    </tr>\n",
       "    <tr>\n",
       "      <th>2234</th>\n",
       "      <td>PF3D7_0900500</td>\n",
       "      <td>1.155072</td>\n",
       "      <td>[0.40393066]</td>\n",
       "    </tr>\n",
       "  </tbody>\n",
       "</table>\n",
       "</div>"
      ],
      "text/plain": [
       "            Feature         W        Scaled\n",
       "1183  PF3D7_0523200  1.156547         [1.0]\n",
       "3003  PF3D7_1040700  1.156544   [0.9987488]\n",
       "5527  PF3D7_1478700  1.156297  [0.89886475]\n",
       "251   PF3D7_0201000  1.155984  [0.77249146]\n",
       "4489  PF3D7_1346200  1.155923  [0.74783325]\n",
       "2755  PF3D7_1015100  1.155877    [0.729187]\n",
       "2239  PF3D7_0901000  1.155791  [0.69436646]\n",
       "3001  PF3D7_1040500  1.155707   [0.6605835]\n",
       "3002  PF3D7_1040600  1.155618  [0.62438965]\n",
       "1655  PF3D7_0706800  1.155524  [0.58639526]\n",
       "1747  PF3D7_0716700  1.155492   [0.5736389]\n",
       "1725  PF3D7_0714400  1.155423  [0.54577637]\n",
       "1091  PF3D7_0514000  1.155420   [0.5444641]\n",
       "1446  PF3D7_0617500  1.155420   [0.5444336]\n",
       "4722  PF3D7_1370000  1.155351   [0.5164795]\n",
       "3750  PF3D7_1226100  1.155334  [0.50964355]\n",
       "4023  PF3D7_1254200  1.155326   [0.5062561]\n",
       "1285  PF3D7_0600900  1.155225  [0.46566772]\n",
       "1167  PF3D7_0521600  1.155219  [0.46328735]\n",
       "724   PF3D7_0401700  1.155194  [0.45321655]\n",
       "1228  PF3D7_0527700  1.155161   [0.4399414]\n",
       "4751  PF3D7_1400400  1.155111  [0.41973877]\n",
       "4026  PF3D7_1254500  1.155077  [0.40597534]\n",
       "2851  PF3D7_1024700  1.155077  [0.40567017]\n",
       "2234  PF3D7_0900500  1.155072  [0.40393066]"
      ]
     },
     "execution_count": 26,
     "metadata": {},
     "output_type": "execute_result"
    }
   ],
   "source": [
    "my_var_proxy_w.head(n=25)"
   ]
  },
  {
   "cell_type": "code",
   "execution_count": 27,
   "metadata": {},
   "outputs": [],
   "source": [
    "my_var_proxy_w.to_csv(\"features_W_TF1.9.csv\")"
   ]
  },
  {
   "cell_type": "code",
   "execution_count": null,
   "metadata": {},
   "outputs": [],
   "source": []
  }
 ],
 "metadata": {
  "kernelspec": {
   "display_name": "Python 2",
   "language": "python",
   "name": "python2"
  },
  "language_info": {
   "codemirror_mode": {
    "name": "ipython",
    "version": 2
   },
   "file_extension": ".py",
   "mimetype": "text/x-python",
   "name": "python",
   "nbconvert_exporter": "python",
   "pygments_lexer": "ipython2",
   "version": "2.7.14"
  }
 },
 "nbformat": 4,
 "nbformat_minor": 4
}
