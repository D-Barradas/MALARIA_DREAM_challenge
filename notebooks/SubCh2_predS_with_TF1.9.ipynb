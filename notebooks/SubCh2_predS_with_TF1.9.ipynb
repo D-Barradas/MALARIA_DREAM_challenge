{
 "cells": [
  {
   "cell_type": "code",
   "execution_count": 1,
   "metadata": {},
   "outputs": [
    {
     "name": "stderr",
     "output_type": "stream",
     "text": [
      "/Users/barradd/anaconda2/lib/python2.7/site-packages/h5py/__init__.py:36: FutureWarning: Conversion of the second argument of issubdtype from `float` to `np.floating` is deprecated. In future, it will be treated as `np.float64 == np.dtype(float).type`.\n",
      "  from ._conv import register_converters as _register_converters\n"
     ]
    }
   ],
   "source": [
    "import os ,sys \n",
    "import pandas as pd \n",
    "import matplotlib.pyplot as plt\n",
    "import numpy as np \n",
    "from sklearn.preprocessing import StandardScaler\n",
    "from sklearn.model_selection import train_test_split\n",
    "import tensorflow as tf\n",
    "from tensorflow import keras\n",
    "from tensorflow.keras import layers"
   ]
  },
  {
   "cell_type": "code",
   "execution_count": 2,
   "metadata": {},
   "outputs": [],
   "source": [
    "seed = 101\n",
    "tf.set_random_seed(seed)\n",
    "np.random.seed(seed)"
   ]
  },
  {
   "cell_type": "code",
   "execution_count": 3,
   "metadata": {},
   "outputs": [],
   "source": [
    "df = pd.read_csv('SubCh1_TrainingData.csv')\n",
    "df.set_index(\"Sample_Name\",inplace=True)\n",
    "df_edit = pd.concat( [df, pd.get_dummies(df[\"Treatment\"]),\n",
    "                      pd.get_dummies( df[\"Timepoint\"])]\n",
    "                         ,axis=1,sort=True )\n",
    "df = df_edit.drop([\"Treatment\",\"Timepoint\",\"BioRep\",\"Isolate\",\"DHA_IC50\"],axis=1)"
   ]
  },
  {
   "cell_type": "code",
   "execution_count": 4,
   "metadata": {},
   "outputs": [],
   "source": [
    "df_subch2 = pd.read_csv(\"SubCh2_TestData.csv\")\n",
    "df_subch2.set_index(\"Sample_Names\",inplace=True)\n",
    "df_edit = pd.concat( [df_subch2, \n",
    "                      pd.get_dummies(df_subch2[\"Treatment\"]),\n",
    "                      pd.get_dummies( df_subch2[\"Timepoint\"])]\n",
    "                         ,axis=1,sort=True )\n",
    "df_subch2= df_edit.drop(['Treatment','Timepoint','BioRep',\n",
    "                         'Country','Isolate','ClearanceRate','Asexual_Stage'],axis=1)\n",
    "# 'MAL1.465720.465873.bc..rv..',\n",
    "# 'MAL1.48287.48430....kr...can',\n",
    "# 'MAL1.562126.562246.bc..r...',\n",
    "# 'MAL1.59416.59687....kr...can',\n",
    "# 'MAL1.616633.616682.......y.',\n",
    "# 'MAL10.1139073.1139243....kr',\n",
    "# 'MAL10.258733.258825.b...r..',\n",
    "# 'MAL10.271753.271892.bcgkrvy'\n",
    "#                           ],axis=1)"
   ]
  },
  {
   "cell_type": "code",
   "execution_count": 5,
   "metadata": {},
   "outputs": [
    {
     "data": {
      "text/plain": [
       "set()"
      ]
     },
     "execution_count": 5,
     "metadata": {},
     "output_type": "execute_result"
    }
   ],
   "source": [
    "set(df_subch2.columns.values.tolist()) -set(df.columns.values.tolist())"
   ]
  },
  {
   "cell_type": "code",
   "execution_count": 6,
   "metadata": {},
   "outputs": [],
   "source": [
    "features_missisng = list(set(df.columns.values.tolist()) - set(df_subch2.columns.values.tolist()))"
   ]
  },
  {
   "cell_type": "code",
   "execution_count": 7,
   "metadata": {},
   "outputs": [
    {
     "data": {
      "text/plain": [
       "((272, 5544), (288, 4964))"
      ]
     },
     "execution_count": 7,
     "metadata": {},
     "output_type": "execute_result"
    }
   ],
   "source": [
    "df.shape,df_subch2.shape"
   ]
  },
  {
   "cell_type": "code",
   "execution_count": 8,
   "metadata": {},
   "outputs": [
    {
     "data": {
      "text/plain": [
       "580"
      ]
     },
     "execution_count": 8,
     "metadata": {},
     "output_type": "execute_result"
    }
   ],
   "source": [
    "df.shape[1]-df_subch2.shape[1]"
   ]
  },
  {
   "cell_type": "code",
   "execution_count": 9,
   "metadata": {},
   "outputs": [
    {
     "data": {
      "text/plain": [
       "580"
      ]
     },
     "execution_count": 9,
     "metadata": {},
     "output_type": "execute_result"
    }
   ],
   "source": [
    "len(features_missisng)"
   ]
  },
  {
   "cell_type": "code",
   "execution_count": 10,
   "metadata": {},
   "outputs": [
    {
     "data": {
      "text/html": [
       "<div>\n",
       "<style scoped>\n",
       "    .dataframe tbody tr th:only-of-type {\n",
       "        vertical-align: middle;\n",
       "    }\n",
       "\n",
       "    .dataframe tbody tr th {\n",
       "        vertical-align: top;\n",
       "    }\n",
       "\n",
       "    .dataframe thead th {\n",
       "        text-align: right;\n",
       "    }\n",
       "</style>\n",
       "<table border=\"1\" class=\"dataframe\">\n",
       "  <thead>\n",
       "    <tr style=\"text-align: right;\">\n",
       "      <th></th>\n",
       "      <th>MAL1.465720.465873.bc..rv..</th>\n",
       "      <th>MAL10.1139073.1139243....kr</th>\n",
       "      <th>PF3D7_1470600</th>\n",
       "      <th>PF3D7_1480100</th>\n",
       "    </tr>\n",
       "  </thead>\n",
       "  <tbody>\n",
       "    <tr>\n",
       "      <th>count</th>\n",
       "      <td>272.000000</td>\n",
       "      <td>272.000000</td>\n",
       "      <td>272.000000</td>\n",
       "      <td>272.000000</td>\n",
       "    </tr>\n",
       "    <tr>\n",
       "      <th>mean</th>\n",
       "      <td>0.125273</td>\n",
       "      <td>0.298666</td>\n",
       "      <td>0.246266</td>\n",
       "      <td>-1.746997</td>\n",
       "    </tr>\n",
       "    <tr>\n",
       "      <th>std</th>\n",
       "      <td>0.542060</td>\n",
       "      <td>0.425972</td>\n",
       "      <td>0.507507</td>\n",
       "      <td>0.800431</td>\n",
       "    </tr>\n",
       "    <tr>\n",
       "      <th>min</th>\n",
       "      <td>-1.250413</td>\n",
       "      <td>-0.694826</td>\n",
       "      <td>-0.892560</td>\n",
       "      <td>-3.707360</td>\n",
       "    </tr>\n",
       "    <tr>\n",
       "      <th>25%</th>\n",
       "      <td>-0.233872</td>\n",
       "      <td>-0.019275</td>\n",
       "      <td>-0.137358</td>\n",
       "      <td>-2.294710</td>\n",
       "    </tr>\n",
       "    <tr>\n",
       "      <th>50%</th>\n",
       "      <td>0.130822</td>\n",
       "      <td>0.304761</td>\n",
       "      <td>0.145848</td>\n",
       "      <td>-1.822472</td>\n",
       "    </tr>\n",
       "    <tr>\n",
       "      <th>75%</th>\n",
       "      <td>0.471552</td>\n",
       "      <td>0.616233</td>\n",
       "      <td>0.631874</td>\n",
       "      <td>-1.333393</td>\n",
       "    </tr>\n",
       "    <tr>\n",
       "      <th>max</th>\n",
       "      <td>1.530355</td>\n",
       "      <td>1.371144</td>\n",
       "      <td>1.625414</td>\n",
       "      <td>1.015633</td>\n",
       "    </tr>\n",
       "  </tbody>\n",
       "</table>\n",
       "</div>"
      ],
      "text/plain": [
       "       MAL1.465720.465873.bc..rv..  MAL10.1139073.1139243....kr  \\\n",
       "count                   272.000000                   272.000000   \n",
       "mean                      0.125273                     0.298666   \n",
       "std                       0.542060                     0.425972   \n",
       "min                      -1.250413                    -0.694826   \n",
       "25%                      -0.233872                    -0.019275   \n",
       "50%                       0.130822                     0.304761   \n",
       "75%                       0.471552                     0.616233   \n",
       "max                       1.530355                     1.371144   \n",
       "\n",
       "       PF3D7_1470600  PF3D7_1480100  \n",
       "count     272.000000     272.000000  \n",
       "mean        0.246266      -1.746997  \n",
       "std         0.507507       0.800431  \n",
       "min        -0.892560      -3.707360  \n",
       "25%        -0.137358      -2.294710  \n",
       "50%         0.145848      -1.822472  \n",
       "75%         0.631874      -1.333393  \n",
       "max         1.625414       1.015633  "
      ]
     },
     "execution_count": 10,
     "metadata": {},
     "output_type": "execute_result"
    }
   ],
   "source": [
    "df[[\"MAL1.465720.465873.bc..rv..\",\"MAL10.1139073.1139243....kr\",\"PF3D7_1470600\",\"PF3D7_1480100\"]].describe()"
   ]
  },
  {
   "cell_type": "code",
   "execution_count": 11,
   "metadata": {},
   "outputs": [],
   "source": [
    "for m in features_missisng: \n",
    "    df_subch2[m] = 0.0"
   ]
  },
  {
   "cell_type": "code",
   "execution_count": 12,
   "metadata": {},
   "outputs": [
    {
     "data": {
      "text/plain": [
       "((272, 5544), (288, 5544))"
      ]
     },
     "execution_count": 12,
     "metadata": {},
     "output_type": "execute_result"
    }
   ],
   "source": [
    "df.shape,df_subch2.shape"
   ]
  },
  {
   "cell_type": "code",
   "execution_count": 13,
   "metadata": {},
   "outputs": [],
   "source": [
    "sc = StandardScaler()"
   ]
  },
  {
   "cell_type": "code",
   "execution_count": 14,
   "metadata": {},
   "outputs": [
    {
     "name": "stderr",
     "output_type": "stream",
     "text": [
      "/Users/barradd/anaconda2/lib/python2.7/site-packages/sklearn/preprocessing/data.py:617: DataConversionWarning: Data with input dtype uint8, float64 were all converted to float64 by StandardScaler.\n",
      "  return self.partial_fit(X, y)\n"
     ]
    }
   ],
   "source": [
    "Xsc = sc.fit(df)"
   ]
  },
  {
   "cell_type": "code",
   "execution_count": 15,
   "metadata": {},
   "outputs": [
    {
     "name": "stderr",
     "output_type": "stream",
     "text": [
      "/Users/barradd/anaconda2/lib/python2.7/site-packages/ipykernel_launcher.py:1: DataConversionWarning: Data with input dtype uint8, float64 were all converted to float64 by StandardScaler.\n",
      "  \"\"\"Entry point for launching an IPython kernel.\n"
     ]
    }
   ],
   "source": [
    "X_test = sc.transform(df_subch2)"
   ]
  },
  {
   "cell_type": "code",
   "execution_count": 16,
   "metadata": {},
   "outputs": [
    {
     "data": {
      "text/plain": [
       "(288, 5544)"
      ]
     },
     "execution_count": 16,
     "metadata": {},
     "output_type": "execute_result"
    }
   ],
   "source": [
    "X_test.shape"
   ]
  },
  {
   "cell_type": "code",
   "execution_count": 17,
   "metadata": {},
   "outputs": [],
   "source": [
    "my_model = tf.keras.models.load_model(\"my_TF1.9_model_copy_73acc.h5\")"
   ]
  },
  {
   "cell_type": "code",
   "execution_count": null,
   "metadata": {},
   "outputs": [],
   "source": [
    "my_model.tr"
   ]
  },
  {
   "cell_type": "code",
   "execution_count": 18,
   "metadata": {},
   "outputs": [],
   "source": [
    "test_predictions = my_model.predict(X_test).flatten()"
   ]
  },
  {
   "cell_type": "code",
   "execution_count": 19,
   "metadata": {},
   "outputs": [
    {
     "data": {
      "text/plain": [
       "(1.9806294, 1.5800676, 0.071577504, 1.785892, 0.4005618)"
      ]
     },
     "execution_count": 19,
     "metadata": {},
     "output_type": "execute_result"
    }
   ],
   "source": [
    "test_predictions.max(),test_predictions.min(),test_predictions.std(),test_predictions.mean(),test_predictions.max()-test_predictions.min()"
   ]
  },
  {
   "cell_type": "code",
   "execution_count": null,
   "metadata": {},
   "outputs": [],
   "source": [
    "test_predictions"
   ]
  },
  {
   "cell_type": "code",
   "execution_count": 20,
   "metadata": {},
   "outputs": [],
   "source": [
    "my_limit = test_predictions.std()+test_predictions.mean()"
   ]
  },
  {
   "cell_type": "code",
   "execution_count": 21,
   "metadata": {},
   "outputs": [
    {
     "data": {
      "text/plain": [
       "(numpy.ndarray, (288,))"
      ]
     },
     "execution_count": 21,
     "metadata": {},
     "output_type": "execute_result"
    }
   ],
   "source": [
    "type(test_predictions),test_predictions.shape"
   ]
  },
  {
   "cell_type": "code",
   "execution_count": 22,
   "metadata": {},
   "outputs": [
    {
     "data": {
      "text/plain": [
       "1.7754272"
      ]
     },
     "execution_count": 22,
     "metadata": {},
     "output_type": "execute_result"
    }
   ],
   "source": [
    "test_predictions[0]"
   ]
  },
  {
   "cell_type": "code",
   "execution_count": 25,
   "metadata": {},
   "outputs": [],
   "source": [
    "#https://malariajournal.biomedcentral.com/track/pdf/10.1186/1475-2875-12-408\n",
    "my_pred = [] \n",
    "for x in test_predictions:\n",
    "    if x < test_predictions.mean():\n",
    "#     if x < my_limit : \n",
    "        my_pred.append ((x, \"SLOW\"))\n",
    "    else :\n",
    "        my_pred.append ((x,\"FAST\"))"
   ]
  },
  {
   "cell_type": "code",
   "execution_count": 26,
   "metadata": {},
   "outputs": [
    {
     "data": {
      "text/plain": [
       "[(1.7754272, 'SLOW'),\n",
       " (1.7306185, 'SLOW'),\n",
       " (1.7019646, 'SLOW'),\n",
       " (1.8477347, 'FAST'),\n",
       " (1.8282176, 'FAST'),\n",
       " (1.8545588, 'FAST'),\n",
       " (1.8060082, 'FAST'),\n",
       " (1.863467, 'FAST'),\n",
       " (1.7677963, 'SLOW'),\n",
       " (1.8336699, 'FAST')]"
      ]
     },
     "execution_count": 26,
     "metadata": {},
     "output_type": "execute_result"
    }
   ],
   "source": [
    "my_pred[:10]"
   ]
  },
  {
   "cell_type": "code",
   "execution_count": 27,
   "metadata": {},
   "outputs": [],
   "source": [
    "pred_prev = pd.DataFrame(my_pred,columns=[ u'Probability',u'Predicted_Categorical_Clearance'])"
   ]
  },
  {
   "cell_type": "code",
   "execution_count": 28,
   "metadata": {},
   "outputs": [],
   "source": [
    "dftemp = pd.read_csv(\"SubCh2_TestData.csv\")"
   ]
  },
  {
   "cell_type": "code",
   "execution_count": 29,
   "metadata": {},
   "outputs": [
    {
     "data": {
      "text/plain": [
       "((288, 2), (288, 4968))"
      ]
     },
     "execution_count": 29,
     "metadata": {},
     "output_type": "execute_result"
    }
   ],
   "source": [
    "pred_prev.shape , dftemp.shape"
   ]
  },
  {
   "cell_type": "code",
   "execution_count": 30,
   "metadata": {},
   "outputs": [
    {
     "data": {
      "text/plain": [
       "Index([u'Sample_Names', u'Country', u'Asexual_Stage', u'Isolate', u'Timepoint',\n",
       "       u'Treatment', u'BioRep', u'MAL1.465720.465873.bc..rv..',\n",
       "       u'MAL1.48287.48430....kr...can', u'MAL1.562126.562246.bc..r...',\n",
       "       ...\n",
       "       u'PF3D7_1478800', u'PF3D7_1479000', u'PF3D7_1479200', u'PF3D7_1479400',\n",
       "       u'PF3D7_1479500', u'PF3D7_1479600', u'PF3D7_1479900', u'PF3D7_1480000',\n",
       "       u'PF3D7_1480100', u'ClearanceRate'],\n",
       "      dtype='object', length=4968)"
      ]
     },
     "execution_count": 30,
     "metadata": {},
     "output_type": "execute_result"
    }
   ],
   "source": [
    "dftemp.columns"
   ]
  },
  {
   "cell_type": "code",
   "execution_count": 32,
   "metadata": {},
   "outputs": [],
   "source": [
    "second = pd.concat([dftemp[u'Isolate'],pred_prev],axis=1)"
   ]
  },
  {
   "cell_type": "code",
   "execution_count": 54,
   "metadata": {},
   "outputs": [],
   "source": [
    "submision = []\n",
    "for m in second[\"Isolate\"].unique():\n",
    "    std = second[second[\"Isolate\"] == m][\"Probability\"].std()\n",
    "    mean = second[second[\"Isolate\"] == m][\"Probability\"].mean()\n",
    "#     print m, mean,std, mean > test_predictions.mean() \n",
    "    maximun = second[second[\"Isolate\"] == m][\"Probability\"].max()\n",
    "    minimun = second[second[\"Isolate\"] == m][\"Probability\"].min()\n",
    "#     if mean > test_predictions.mean()  :\n",
    "    if maximun-std > test_predictions.mean()  :\n",
    "        submision.append((m, \"FAST\", mean  ))\n",
    "    else:\n",
    "        submision.append((m, \"SLOW\", mean  ))"
   ]
  },
  {
   "cell_type": "code",
   "execution_count": 55,
   "metadata": {},
   "outputs": [],
   "source": [
    "final_df = pd.DataFrame(submision,columns= [u'Isolate' , \n",
    "                                            u'Predicted_Categorical_Clearance' , \n",
    "                                            u'Probability' ])"
   ]
  },
  {
   "cell_type": "code",
   "execution_count": 56,
   "metadata": {},
   "outputs": [
    {
     "data": {
      "text/html": [
       "<div>\n",
       "<style scoped>\n",
       "    .dataframe tbody tr th:only-of-type {\n",
       "        vertical-align: middle;\n",
       "    }\n",
       "\n",
       "    .dataframe tbody tr th {\n",
       "        vertical-align: top;\n",
       "    }\n",
       "\n",
       "    .dataframe thead th {\n",
       "        text-align: right;\n",
       "    }\n",
       "</style>\n",
       "<table border=\"1\" class=\"dataframe\">\n",
       "  <thead>\n",
       "    <tr style=\"text-align: right;\">\n",
       "      <th></th>\n",
       "      <th>Isolate</th>\n",
       "      <th>Predicted_Categorical_Clearance</th>\n",
       "      <th>Probability</th>\n",
       "    </tr>\n",
       "    <tr>\n",
       "      <th>Predicted_Categorical_Clearance</th>\n",
       "      <th></th>\n",
       "      <th></th>\n",
       "      <th></th>\n",
       "    </tr>\n",
       "  </thead>\n",
       "  <tbody>\n",
       "    <tr>\n",
       "      <th>FAST</th>\n",
       "      <td>27</td>\n",
       "      <td>1</td>\n",
       "      <td>27</td>\n",
       "    </tr>\n",
       "    <tr>\n",
       "      <th>SLOW</th>\n",
       "      <td>5</td>\n",
       "      <td>1</td>\n",
       "      <td>5</td>\n",
       "    </tr>\n",
       "  </tbody>\n",
       "</table>\n",
       "</div>"
      ],
      "text/plain": [
       "                                 Isolate  Predicted_Categorical_Clearance  \\\n",
       "Predicted_Categorical_Clearance                                             \n",
       "FAST                                  27                                1   \n",
       "SLOW                                   5                                1   \n",
       "\n",
       "                                 Probability  \n",
       "Predicted_Categorical_Clearance               \n",
       "FAST                                      27  \n",
       "SLOW                                       5  "
      ]
     },
     "execution_count": 56,
     "metadata": {},
     "output_type": "execute_result"
    }
   ],
   "source": [
    "final_df.groupby(\"Predicted_Categorical_Clearance\").nunique()"
   ]
  },
  {
   "cell_type": "code",
   "execution_count": 57,
   "metadata": {},
   "outputs": [],
   "source": [
    "final_df.to_csv(\"SubCh2_Submission_DBB_from_model_SubCh1.txt\",sep=\"\\t\",index=False)"
   ]
  }
 ],
 "metadata": {
  "kernelspec": {
   "display_name": "Python 2",
   "language": "python",
   "name": "python2"
  },
  "language_info": {
   "codemirror_mode": {
    "name": "ipython",
    "version": 2
   },
   "file_extension": ".py",
   "mimetype": "text/x-python",
   "name": "python",
   "nbconvert_exporter": "python",
   "pygments_lexer": "ipython2",
   "version": "2.7.14"
  }
 },
 "nbformat": 4,
 "nbformat_minor": 2
}
