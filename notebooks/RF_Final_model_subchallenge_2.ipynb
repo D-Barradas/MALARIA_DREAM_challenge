{
 "cells": [
  {
   "cell_type": "code",
   "execution_count": 1,
   "metadata": {},
   "outputs": [],
   "source": [
    "import os ,sys \n",
    "import pandas as pd \n",
    "import matplotlib.pyplot as plt\n",
    "import numpy as np\n",
    "from sklearn.ensemble import RandomForestClassifier,RandomForestRegressor\n",
    "from sklearn.preprocessing import StandardScaler"
   ]
  },
  {
   "cell_type": "code",
   "execution_count": 2,
   "metadata": {},
   "outputs": [],
   "source": [
    "np.random.seed(seed = 101)"
   ]
  },
  {
   "cell_type": "code",
   "execution_count": 3,
   "metadata": {},
   "outputs": [],
   "source": [
    "df = pd.read_csv(\"SubCh2_TrainingData.csv\")"
   ]
  },
  {
   "cell_type": "code",
   "execution_count": 4,
   "metadata": {},
   "outputs": [],
   "source": [
    "df.set_index(\"Sample_Names\",inplace=True)"
   ]
  },
  {
   "cell_type": "code",
   "execution_count": 5,
   "metadata": {},
   "outputs": [],
   "source": [
    "df.dropna(subset=[\"ClearanceRate\"],inplace=True)"
   ]
  },
  {
   "cell_type": "code",
   "execution_count": 6,
   "metadata": {},
   "outputs": [],
   "source": [
    "X = df.drop([\"ClearanceRate\",\"Country\",\"Kmeans.Grp\"],axis=1)\n",
    "y = df[\"ClearanceRate\"]"
   ]
  },
  {
   "cell_type": "code",
   "execution_count": 7,
   "metadata": {},
   "outputs": [],
   "source": [
    "#Fill the nan values \n",
    "for m in X.columns :\n",
    "    X[m].fillna((X[m].mean()),inplace=True)\n",
    "    #sub2['income'].fillna((sub2['income'].mean()), inplace=True)"
   ]
  },
  {
   "cell_type": "code",
   "execution_count": 8,
   "metadata": {},
   "outputs": [
    {
     "name": "stderr",
     "output_type": "stream",
     "text": [
      "/Users/barradd/anaconda2/lib/python2.7/site-packages/sklearn/preprocessing/data.py:617: DataConversionWarning: Data with input dtype int64, float64 were all converted to float64 by StandardScaler.\n",
      "  return self.partial_fit(X, y)\n",
      "/Users/barradd/anaconda2/lib/python2.7/site-packages/ipykernel_launcher.py:3: DataConversionWarning: Data with input dtype int64, float64 were all converted to float64 by StandardScaler.\n",
      "  This is separate from the ipykernel package so we can avoid doing imports until\n"
     ]
    }
   ],
   "source": [
    "scaler = StandardScaler()\n",
    "scaler.fit(X)\n",
    "X_scaled = scaler.transform(X)"
   ]
  },
  {
   "cell_type": "code",
   "execution_count": 9,
   "metadata": {},
   "outputs": [],
   "source": [
    "# df_pd_scaled = pd.DataFrame(X_scaled,columns=X.columns,index=X.index)"
   ]
  },
  {
   "cell_type": "code",
   "execution_count": 10,
   "metadata": {},
   "outputs": [],
   "source": [
    "#X_noNan = pd.concat( [df_pd_scaled, pd.get_dummies( df[\"Kmeans.Grp\"]  )],axis=1,sort=True)"
   ]
  },
  {
   "cell_type": "code",
   "execution_count": 11,
   "metadata": {},
   "outputs": [],
   "source": [
    "rfc = RandomForestClassifier( n_estimators=5333 , n_jobs=-1,verbose=1\n",
    "                             , min_samples_split=2,\n",
    "                             min_samples_leaf=4,\n",
    "                             max_features=\"auto\",\n",
    "                             max_depth=20, \n",
    "                             bootstrap=False)"
   ]
  },
  {
   "cell_type": "code",
   "execution_count": 12,
   "metadata": {},
   "outputs": [
    {
     "name": "stderr",
     "output_type": "stream",
     "text": [
      "[Parallel(n_jobs=-1)]: Using backend ThreadingBackend with 8 concurrent workers.\n",
      "[Parallel(n_jobs=-1)]: Done  34 tasks      | elapsed:    0.4s\n",
      "[Parallel(n_jobs=-1)]: Done 184 tasks      | elapsed:    2.0s\n",
      "[Parallel(n_jobs=-1)]: Done 434 tasks      | elapsed:    4.6s\n",
      "[Parallel(n_jobs=-1)]: Done 784 tasks      | elapsed:    8.3s\n",
      "[Parallel(n_jobs=-1)]: Done 1234 tasks      | elapsed:   13.0s\n",
      "[Parallel(n_jobs=-1)]: Done 1784 tasks      | elapsed:   18.7s\n",
      "[Parallel(n_jobs=-1)]: Done 2434 tasks      | elapsed:   27.6s\n",
      "[Parallel(n_jobs=-1)]: Done 3184 tasks      | elapsed:   36.6s\n",
      "[Parallel(n_jobs=-1)]: Done 4034 tasks      | elapsed:   46.5s\n",
      "[Parallel(n_jobs=-1)]: Done 4984 tasks      | elapsed:   57.4s\n",
      "[Parallel(n_jobs=-1)]: Done 5333 out of 5333 | elapsed:  1.0min finished\n"
     ]
    },
    {
     "data": {
      "text/plain": [
       "RandomForestClassifier(bootstrap=False, class_weight=None, criterion='gini',\n",
       "            max_depth=20, max_features='auto', max_leaf_nodes=None,\n",
       "            min_impurity_decrease=0.0, min_impurity_split=None,\n",
       "            min_samples_leaf=4, min_samples_split=2,\n",
       "            min_weight_fraction_leaf=0.0, n_estimators=5333, n_jobs=-1,\n",
       "            oob_score=False, random_state=None, verbose=1,\n",
       "            warm_start=False)"
      ]
     },
     "execution_count": 12,
     "metadata": {},
     "output_type": "execute_result"
    }
   ],
   "source": [
    "rfc.fit(X_scaled,y)"
   ]
  },
  {
   "cell_type": "code",
   "execution_count": 13,
   "metadata": {},
   "outputs": [],
   "source": [
    "df_test = pd.read_csv(\"SubCh2_TestData.csv\")"
   ]
  },
  {
   "cell_type": "code",
   "execution_count": 14,
   "metadata": {},
   "outputs": [
    {
     "data": {
      "text/html": [
       "<div>\n",
       "<style scoped>\n",
       "    .dataframe tbody tr th:only-of-type {\n",
       "        vertical-align: middle;\n",
       "    }\n",
       "\n",
       "    .dataframe tbody tr th {\n",
       "        vertical-align: top;\n",
       "    }\n",
       "\n",
       "    .dataframe thead th {\n",
       "        text-align: right;\n",
       "    }\n",
       "</style>\n",
       "<table border=\"1\" class=\"dataframe\">\n",
       "  <thead>\n",
       "    <tr style=\"text-align: right;\">\n",
       "      <th></th>\n",
       "      <th>Sample_Names</th>\n",
       "      <th>Country</th>\n",
       "      <th>Asexual_Stage</th>\n",
       "      <th>Isolate</th>\n",
       "      <th>Timepoint</th>\n",
       "      <th>Treatment</th>\n",
       "      <th>BioRep</th>\n",
       "      <th>MAL1.465720.465873.bc..rv..</th>\n",
       "      <th>MAL1.48287.48430....kr...can</th>\n",
       "      <th>MAL1.562126.562246.bc..r...</th>\n",
       "      <th>...</th>\n",
       "      <th>PF3D7_1478800</th>\n",
       "      <th>PF3D7_1479000</th>\n",
       "      <th>PF3D7_1479200</th>\n",
       "      <th>PF3D7_1479400</th>\n",
       "      <th>PF3D7_1479500</th>\n",
       "      <th>PF3D7_1479600</th>\n",
       "      <th>PF3D7_1479900</th>\n",
       "      <th>PF3D7_1480000</th>\n",
       "      <th>PF3D7_1480100</th>\n",
       "      <th>ClearanceRate</th>\n",
       "    </tr>\n",
       "  </thead>\n",
       "  <tbody>\n",
       "    <tr>\n",
       "      <th>0</th>\n",
       "      <td>isolate_02.24HR.DHA.BRep1</td>\n",
       "      <td>Thailand_Myanmar_Border</td>\n",
       "      <td>50</td>\n",
       "      <td>isolate_02</td>\n",
       "      <td>24HR</td>\n",
       "      <td>DHA</td>\n",
       "      <td>BRep1</td>\n",
       "      <td>-0.178971</td>\n",
       "      <td>-1.922426</td>\n",
       "      <td>-1.875015</td>\n",
       "      <td>...</td>\n",
       "      <td>0.790819</td>\n",
       "      <td>-0.070151</td>\n",
       "      <td>0.024133</td>\n",
       "      <td>-2.215227</td>\n",
       "      <td>-1.957654</td>\n",
       "      <td>-2.188635</td>\n",
       "      <td>-1.722201</td>\n",
       "      <td>-3.995680</td>\n",
       "      <td>-0.902979</td>\n",
       "      <td>NaN</td>\n",
       "    </tr>\n",
       "    <tr>\n",
       "      <th>1</th>\n",
       "      <td>isolate_02.24HR.DHA.BRep2</td>\n",
       "      <td>Thailand_Myanmar_Border</td>\n",
       "      <td>16</td>\n",
       "      <td>isolate_02</td>\n",
       "      <td>24HR</td>\n",
       "      <td>DHA</td>\n",
       "      <td>BRep2</td>\n",
       "      <td>1.337421</td>\n",
       "      <td>-1.764941</td>\n",
       "      <td>-0.414673</td>\n",
       "      <td>...</td>\n",
       "      <td>0.659458</td>\n",
       "      <td>-1.288305</td>\n",
       "      <td>0.806314</td>\n",
       "      <td>-3.733712</td>\n",
       "      <td>-1.990368</td>\n",
       "      <td>-1.633418</td>\n",
       "      <td>-2.104227</td>\n",
       "      <td>-5.767710</td>\n",
       "      <td>-2.177930</td>\n",
       "      <td>NaN</td>\n",
       "    </tr>\n",
       "    <tr>\n",
       "      <th>2</th>\n",
       "      <td>isolate_02.24HR.DHA.BRep3</td>\n",
       "      <td>Thailand_Myanmar_Border</td>\n",
       "      <td>8</td>\n",
       "      <td>isolate_02</td>\n",
       "      <td>24HR</td>\n",
       "      <td>DHA</td>\n",
       "      <td>BRep3</td>\n",
       "      <td>-0.717441</td>\n",
       "      <td>-1.151982</td>\n",
       "      <td>-1.693989</td>\n",
       "      <td>...</td>\n",
       "      <td>0.846346</td>\n",
       "      <td>0.279816</td>\n",
       "      <td>0.115002</td>\n",
       "      <td>-1.305902</td>\n",
       "      <td>-0.679212</td>\n",
       "      <td>-2.099512</td>\n",
       "      <td>-1.626372</td>\n",
       "      <td>-4.422711</td>\n",
       "      <td>-1.408485</td>\n",
       "      <td>NaN</td>\n",
       "    </tr>\n",
       "    <tr>\n",
       "      <th>3</th>\n",
       "      <td>isolate_02.24HR.DHA.BRep4</td>\n",
       "      <td>Thailand_Myanmar_Border</td>\n",
       "      <td>6</td>\n",
       "      <td>isolate_02</td>\n",
       "      <td>24HR</td>\n",
       "      <td>DHA</td>\n",
       "      <td>BRep4</td>\n",
       "      <td>0.143501</td>\n",
       "      <td>-1.496923</td>\n",
       "      <td>-1.219010</td>\n",
       "      <td>...</td>\n",
       "      <td>0.927822</td>\n",
       "      <td>0.375290</td>\n",
       "      <td>1.113241</td>\n",
       "      <td>-4.016287</td>\n",
       "      <td>-1.327287</td>\n",
       "      <td>-2.375500</td>\n",
       "      <td>-1.939162</td>\n",
       "      <td>-3.500963</td>\n",
       "      <td>-0.796143</td>\n",
       "      <td>NaN</td>\n",
       "    </tr>\n",
       "    <tr>\n",
       "      <th>4</th>\n",
       "      <td>isolate_02.24HR.UT.BRep1</td>\n",
       "      <td>Thailand_Myanmar_Border</td>\n",
       "      <td>48</td>\n",
       "      <td>isolate_02</td>\n",
       "      <td>24HR</td>\n",
       "      <td>UT</td>\n",
       "      <td>BRep1</td>\n",
       "      <td>-0.078235</td>\n",
       "      <td>-1.885653</td>\n",
       "      <td>-1.350747</td>\n",
       "      <td>...</td>\n",
       "      <td>-0.718147</td>\n",
       "      <td>0.193968</td>\n",
       "      <td>-0.125951</td>\n",
       "      <td>0.048244</td>\n",
       "      <td>-1.316566</td>\n",
       "      <td>-2.247523</td>\n",
       "      <td>-1.104079</td>\n",
       "      <td>-4.776909</td>\n",
       "      <td>-2.218115</td>\n",
       "      <td>NaN</td>\n",
       "    </tr>\n",
       "  </tbody>\n",
       "</table>\n",
       "<p>5 rows × 4968 columns</p>\n",
       "</div>"
      ],
      "text/plain": [
       "                Sample_Names                  Country  Asexual_Stage  \\\n",
       "0  isolate_02.24HR.DHA.BRep1  Thailand_Myanmar_Border             50   \n",
       "1  isolate_02.24HR.DHA.BRep2  Thailand_Myanmar_Border             16   \n",
       "2  isolate_02.24HR.DHA.BRep3  Thailand_Myanmar_Border              8   \n",
       "3  isolate_02.24HR.DHA.BRep4  Thailand_Myanmar_Border              6   \n",
       "4   isolate_02.24HR.UT.BRep1  Thailand_Myanmar_Border             48   \n",
       "\n",
       "      Isolate Timepoint Treatment BioRep  MAL1.465720.465873.bc..rv..  \\\n",
       "0  isolate_02      24HR       DHA  BRep1                    -0.178971   \n",
       "1  isolate_02      24HR       DHA  BRep2                     1.337421   \n",
       "2  isolate_02      24HR       DHA  BRep3                    -0.717441   \n",
       "3  isolate_02      24HR       DHA  BRep4                     0.143501   \n",
       "4  isolate_02      24HR        UT  BRep1                    -0.078235   \n",
       "\n",
       "   MAL1.48287.48430....kr...can  MAL1.562126.562246.bc..r...      ...        \\\n",
       "0                     -1.922426                    -1.875015      ...         \n",
       "1                     -1.764941                    -0.414673      ...         \n",
       "2                     -1.151982                    -1.693989      ...         \n",
       "3                     -1.496923                    -1.219010      ...         \n",
       "4                     -1.885653                    -1.350747      ...         \n",
       "\n",
       "   PF3D7_1478800  PF3D7_1479000  PF3D7_1479200  PF3D7_1479400  PF3D7_1479500  \\\n",
       "0       0.790819      -0.070151       0.024133      -2.215227      -1.957654   \n",
       "1       0.659458      -1.288305       0.806314      -3.733712      -1.990368   \n",
       "2       0.846346       0.279816       0.115002      -1.305902      -0.679212   \n",
       "3       0.927822       0.375290       1.113241      -4.016287      -1.327287   \n",
       "4      -0.718147       0.193968      -0.125951       0.048244      -1.316566   \n",
       "\n",
       "   PF3D7_1479600  PF3D7_1479900  PF3D7_1480000  PF3D7_1480100  ClearanceRate  \n",
       "0      -2.188635      -1.722201      -3.995680      -0.902979            NaN  \n",
       "1      -1.633418      -2.104227      -5.767710      -2.177930            NaN  \n",
       "2      -2.099512      -1.626372      -4.422711      -1.408485            NaN  \n",
       "3      -2.375500      -1.939162      -3.500963      -0.796143            NaN  \n",
       "4      -2.247523      -1.104079      -4.776909      -2.218115            NaN  \n",
       "\n",
       "[5 rows x 4968 columns]"
      ]
     },
     "execution_count": 14,
     "metadata": {},
     "output_type": "execute_result"
    }
   ],
   "source": [
    "df_test.head()"
   ]
  },
  {
   "cell_type": "code",
   "execution_count": 15,
   "metadata": {},
   "outputs": [],
   "source": [
    "df_test.set_index(\"Sample_Names\",inplace=True)"
   ]
  },
  {
   "cell_type": "code",
   "execution_count": 16,
   "metadata": {},
   "outputs": [],
   "source": [
    "# for m in df_test.columns: \n",
    "#     print m"
   ]
  },
  {
   "cell_type": "code",
   "execution_count": 35,
   "metadata": {},
   "outputs": [],
   "source": [
    "# for m in df.columns: \n",
    "#     print m"
   ]
  },
  {
   "cell_type": "code",
   "execution_count": 18,
   "metadata": {},
   "outputs": [
    {
     "data": {
      "text/plain": [
       "array([20, 18, 16,  8, 12, 10, 14,  4,  6, 46, 44, 22, 42])"
      ]
     },
     "execution_count": 18,
     "metadata": {},
     "output_type": "execute_result"
    }
   ],
   "source": [
    "df[\"Asexual.stage..hpi.\"].unique()"
   ]
  },
  {
   "cell_type": "code",
   "execution_count": 19,
   "metadata": {},
   "outputs": [
    {
     "data": {
      "text/plain": [
       "array([50, 16,  8,  6, 48,  7, 47, 49, 24,  3, 20, 12, 29, 25,  5, 39, 18,\n",
       "       51, 14, 33, 37, 35, 11, 45, 44, 31, 15, 23, 26, 38, 52,  1, 32, 40,\n",
       "       19, 30, 22,  9, 34, 17,  4, 21])"
      ]
     },
     "execution_count": 19,
     "metadata": {},
     "output_type": "execute_result"
    }
   ],
   "source": [
    "df_test['Asexual_Stage'].unique()"
   ]
  },
  {
   "cell_type": "code",
   "execution_count": 20,
   "metadata": {},
   "outputs": [],
   "source": [
    "df_test= df_test.drop(['Treatment','Timepoint','BioRep','Country',\n",
    "'MAL1.465720.465873.bc..rv..',\n",
    "'MAL1.48287.48430....kr...can',\n",
    "'MAL1.562126.562246.bc..r...',\n",
    "'MAL1.59416.59687....kr...can',\n",
    "'MAL1.616633.616682.......y.',\n",
    "'MAL10.1139073.1139243....kr',\n",
    "'MAL10.258733.258825.b...r..',\n",
    "'MAL10.271753.271892.bcgkrvy'],axis=1)"
   ]
  },
  {
   "cell_type": "code",
   "execution_count": 21,
   "metadata": {},
   "outputs": [],
   "source": [
    "##Check for nan in test\n",
    "# for m in df_test.columns:\n",
    "#     print (df_test [df_test[m].isna()].shape )"
   ]
  },
  {
   "cell_type": "code",
   "execution_count": 22,
   "metadata": {},
   "outputs": [],
   "source": [
    "X_test = df_test.drop([\"Isolate\",\"ClearanceRate\"],axis=1)"
   ]
  },
  {
   "cell_type": "code",
   "execution_count": 23,
   "metadata": {},
   "outputs": [
    {
     "name": "stderr",
     "output_type": "stream",
     "text": [
      "[Parallel(n_jobs=8)]: Using backend ThreadingBackend with 8 concurrent workers.\n",
      "[Parallel(n_jobs=8)]: Done  34 tasks      | elapsed:    0.0s\n",
      "[Parallel(n_jobs=8)]: Done 184 tasks      | elapsed:    0.1s\n",
      "[Parallel(n_jobs=8)]: Done 434 tasks      | elapsed:    0.2s\n",
      "[Parallel(n_jobs=8)]: Done 784 tasks      | elapsed:    0.3s\n",
      "[Parallel(n_jobs=8)]: Done 1234 tasks      | elapsed:    0.5s\n",
      "[Parallel(n_jobs=8)]: Done 1784 tasks      | elapsed:    0.7s\n",
      "[Parallel(n_jobs=8)]: Done 2434 tasks      | elapsed:    0.9s\n",
      "[Parallel(n_jobs=8)]: Done 3184 tasks      | elapsed:    1.2s\n",
      "[Parallel(n_jobs=8)]: Done 4034 tasks      | elapsed:    1.5s\n",
      "[Parallel(n_jobs=8)]: Done 4984 tasks      | elapsed:    1.8s\n",
      "[Parallel(n_jobs=8)]: Done 5333 out of 5333 | elapsed:    1.9s finished\n"
     ]
    }
   ],
   "source": [
    "predictions = rfc.predict(X_test)"
   ]
  },
  {
   "cell_type": "code",
   "execution_count": 24,
   "metadata": {},
   "outputs": [
    {
     "name": "stderr",
     "output_type": "stream",
     "text": [
      "[Parallel(n_jobs=8)]: Using backend ThreadingBackend with 8 concurrent workers.\n",
      "[Parallel(n_jobs=8)]: Done  34 tasks      | elapsed:    0.0s\n",
      "[Parallel(n_jobs=8)]: Done 184 tasks      | elapsed:    0.1s\n",
      "[Parallel(n_jobs=8)]: Done 434 tasks      | elapsed:    0.2s\n",
      "[Parallel(n_jobs=8)]: Done 784 tasks      | elapsed:    0.3s\n",
      "[Parallel(n_jobs=8)]: Done 1234 tasks      | elapsed:    0.4s\n",
      "[Parallel(n_jobs=8)]: Done 1784 tasks      | elapsed:    0.6s\n",
      "[Parallel(n_jobs=8)]: Done 2434 tasks      | elapsed:    0.9s\n",
      "[Parallel(n_jobs=8)]: Done 3184 tasks      | elapsed:    1.1s\n",
      "[Parallel(n_jobs=8)]: Done 4034 tasks      | elapsed:    1.4s\n",
      "[Parallel(n_jobs=8)]: Done 4984 tasks      | elapsed:    1.8s\n",
      "[Parallel(n_jobs=8)]: Done 5333 out of 5333 | elapsed:    1.9s finished\n"
     ]
    }
   ],
   "source": [
    "probability_predictions = rfc.predict_proba(X_test)"
   ]
  },
  {
   "cell_type": "code",
   "execution_count": 25,
   "metadata": {},
   "outputs": [],
   "source": [
    "df_pred_class = pd.DataFrame(predictions,index=X_test.index,columns=['Predicted_Categorical_Clearance'])\n",
    "df_prob_class = pd.DataFrame(probability_predictions, index=X_test.index , columns=[\"Probability\",\"Slow\"])"
   ]
  },
  {
   "cell_type": "code",
   "execution_count": 26,
   "metadata": {},
   "outputs": [],
   "source": [
    "df_isolate = df_test[\"Isolate\"]"
   ]
  },
  {
   "cell_type": "code",
   "execution_count": 27,
   "metadata": {},
   "outputs": [],
   "source": [
    "prefinal_df = pd.concat ([df_isolate ,df_pred_class, df_prob_class[\"Probability\"]] , axis = 1)\n",
    "# final_df = pd.concat ([df_pred_class, df_prob_class[\"Probability\"]] , axis = 1)"
   ]
  },
  {
   "cell_type": "code",
   "execution_count": 28,
   "metadata": {},
   "outputs": [
    {
     "data": {
      "text/html": [
       "<div>\n",
       "<style scoped>\n",
       "    .dataframe tbody tr th:only-of-type {\n",
       "        vertical-align: middle;\n",
       "    }\n",
       "\n",
       "    .dataframe tbody tr th {\n",
       "        vertical-align: top;\n",
       "    }\n",
       "\n",
       "    .dataframe thead th {\n",
       "        text-align: right;\n",
       "    }\n",
       "</style>\n",
       "<table border=\"1\" class=\"dataframe\">\n",
       "  <thead>\n",
       "    <tr style=\"text-align: right;\">\n",
       "      <th></th>\n",
       "      <th>Asexual_Stage</th>\n",
       "      <th>PF3D7_0100100</th>\n",
       "      <th>PF3D7_0100200</th>\n",
       "      <th>PF3D7_0100300</th>\n",
       "      <th>PF3D7_0100600</th>\n",
       "      <th>PF3D7_0100800</th>\n",
       "      <th>PF3D7_0101300</th>\n",
       "      <th>PF3D7_0101600</th>\n",
       "      <th>PF3D7_0101800</th>\n",
       "      <th>PF3D7_0101900</th>\n",
       "      <th>...</th>\n",
       "      <th>PF3D7_1478600</th>\n",
       "      <th>PF3D7_1478800</th>\n",
       "      <th>PF3D7_1479000</th>\n",
       "      <th>PF3D7_1479200</th>\n",
       "      <th>PF3D7_1479400</th>\n",
       "      <th>PF3D7_1479500</th>\n",
       "      <th>PF3D7_1479600</th>\n",
       "      <th>PF3D7_1479900</th>\n",
       "      <th>PF3D7_1480000</th>\n",
       "      <th>PF3D7_1480100</th>\n",
       "    </tr>\n",
       "    <tr>\n",
       "      <th>Sample_Names</th>\n",
       "      <th></th>\n",
       "      <th></th>\n",
       "      <th></th>\n",
       "      <th></th>\n",
       "      <th></th>\n",
       "      <th></th>\n",
       "      <th></th>\n",
       "      <th></th>\n",
       "      <th></th>\n",
       "      <th></th>\n",
       "      <th></th>\n",
       "      <th></th>\n",
       "      <th></th>\n",
       "      <th></th>\n",
       "      <th></th>\n",
       "      <th></th>\n",
       "      <th></th>\n",
       "      <th></th>\n",
       "      <th></th>\n",
       "      <th></th>\n",
       "      <th></th>\n",
       "    </tr>\n",
       "  </thead>\n",
       "  <tbody>\n",
       "    <tr>\n",
       "      <th>isolate_02.24HR.DHA.BRep1</th>\n",
       "      <td>50</td>\n",
       "      <td>-1.715683</td>\n",
       "      <td>-3.141518</td>\n",
       "      <td>-1.208746</td>\n",
       "      <td>-5.530610</td>\n",
       "      <td>-5.365596</td>\n",
       "      <td>-3.906168</td>\n",
       "      <td>-5.485332</td>\n",
       "      <td>-0.616218</td>\n",
       "      <td>-3.131781</td>\n",
       "      <td>...</td>\n",
       "      <td>0.577183</td>\n",
       "      <td>0.790819</td>\n",
       "      <td>-0.070151</td>\n",
       "      <td>0.024133</td>\n",
       "      <td>-2.215227</td>\n",
       "      <td>-1.957654</td>\n",
       "      <td>-2.188635</td>\n",
       "      <td>-1.722201</td>\n",
       "      <td>-3.995680</td>\n",
       "      <td>-0.902979</td>\n",
       "    </tr>\n",
       "    <tr>\n",
       "      <th>isolate_02.24HR.DHA.BRep2</th>\n",
       "      <td>16</td>\n",
       "      <td>-3.984082</td>\n",
       "      <td>-1.798437</td>\n",
       "      <td>-3.298710</td>\n",
       "      <td>-5.418417</td>\n",
       "      <td>-5.188566</td>\n",
       "      <td>-1.466624</td>\n",
       "      <td>-6.339969</td>\n",
       "      <td>-1.214583</td>\n",
       "      <td>-2.451385</td>\n",
       "      <td>...</td>\n",
       "      <td>1.518408</td>\n",
       "      <td>0.659458</td>\n",
       "      <td>-1.288305</td>\n",
       "      <td>0.806314</td>\n",
       "      <td>-3.733712</td>\n",
       "      <td>-1.990368</td>\n",
       "      <td>-1.633418</td>\n",
       "      <td>-2.104227</td>\n",
       "      <td>-5.767710</td>\n",
       "      <td>-2.177930</td>\n",
       "    </tr>\n",
       "    <tr>\n",
       "      <th>isolate_02.24HR.DHA.BRep3</th>\n",
       "      <td>8</td>\n",
       "      <td>-1.337844</td>\n",
       "      <td>-1.202280</td>\n",
       "      <td>-1.521241</td>\n",
       "      <td>-5.591948</td>\n",
       "      <td>-4.975055</td>\n",
       "      <td>-4.131331</td>\n",
       "      <td>-4.165494</td>\n",
       "      <td>-0.659281</td>\n",
       "      <td>-3.138363</td>\n",
       "      <td>...</td>\n",
       "      <td>0.785003</td>\n",
       "      <td>0.846346</td>\n",
       "      <td>0.279816</td>\n",
       "      <td>0.115002</td>\n",
       "      <td>-1.305902</td>\n",
       "      <td>-0.679212</td>\n",
       "      <td>-2.099512</td>\n",
       "      <td>-1.626372</td>\n",
       "      <td>-4.422711</td>\n",
       "      <td>-1.408485</td>\n",
       "    </tr>\n",
       "    <tr>\n",
       "      <th>isolate_02.24HR.DHA.BRep4</th>\n",
       "      <td>6</td>\n",
       "      <td>-2.168455</td>\n",
       "      <td>-1.575822</td>\n",
       "      <td>-0.996323</td>\n",
       "      <td>-3.580074</td>\n",
       "      <td>-5.074178</td>\n",
       "      <td>-3.355917</td>\n",
       "      <td>-6.072873</td>\n",
       "      <td>0.061882</td>\n",
       "      <td>-2.571563</td>\n",
       "      <td>...</td>\n",
       "      <td>0.362859</td>\n",
       "      <td>0.927822</td>\n",
       "      <td>0.375290</td>\n",
       "      <td>1.113241</td>\n",
       "      <td>-4.016287</td>\n",
       "      <td>-1.327287</td>\n",
       "      <td>-2.375500</td>\n",
       "      <td>-1.939162</td>\n",
       "      <td>-3.500963</td>\n",
       "      <td>-0.796143</td>\n",
       "    </tr>\n",
       "    <tr>\n",
       "      <th>isolate_02.24HR.UT.BRep1</th>\n",
       "      <td>48</td>\n",
       "      <td>-1.129170</td>\n",
       "      <td>-2.068018</td>\n",
       "      <td>-2.558206</td>\n",
       "      <td>-2.850875</td>\n",
       "      <td>-4.441118</td>\n",
       "      <td>-3.140499</td>\n",
       "      <td>-4.376034</td>\n",
       "      <td>-0.423899</td>\n",
       "      <td>-2.512600</td>\n",
       "      <td>...</td>\n",
       "      <td>0.111077</td>\n",
       "      <td>-0.718147</td>\n",
       "      <td>0.193968</td>\n",
       "      <td>-0.125951</td>\n",
       "      <td>0.048244</td>\n",
       "      <td>-1.316566</td>\n",
       "      <td>-2.247523</td>\n",
       "      <td>-1.104079</td>\n",
       "      <td>-4.776909</td>\n",
       "      <td>-2.218115</td>\n",
       "    </tr>\n",
       "  </tbody>\n",
       "</table>\n",
       "<p>5 rows × 4953 columns</p>\n",
       "</div>"
      ],
      "text/plain": [
       "                           Asexual_Stage  PF3D7_0100100  PF3D7_0100200  \\\n",
       "Sample_Names                                                             \n",
       "isolate_02.24HR.DHA.BRep1             50      -1.715683      -3.141518   \n",
       "isolate_02.24HR.DHA.BRep2             16      -3.984082      -1.798437   \n",
       "isolate_02.24HR.DHA.BRep3              8      -1.337844      -1.202280   \n",
       "isolate_02.24HR.DHA.BRep4              6      -2.168455      -1.575822   \n",
       "isolate_02.24HR.UT.BRep1              48      -1.129170      -2.068018   \n",
       "\n",
       "                           PF3D7_0100300  PF3D7_0100600  PF3D7_0100800  \\\n",
       "Sample_Names                                                             \n",
       "isolate_02.24HR.DHA.BRep1      -1.208746      -5.530610      -5.365596   \n",
       "isolate_02.24HR.DHA.BRep2      -3.298710      -5.418417      -5.188566   \n",
       "isolate_02.24HR.DHA.BRep3      -1.521241      -5.591948      -4.975055   \n",
       "isolate_02.24HR.DHA.BRep4      -0.996323      -3.580074      -5.074178   \n",
       "isolate_02.24HR.UT.BRep1       -2.558206      -2.850875      -4.441118   \n",
       "\n",
       "                           PF3D7_0101300  PF3D7_0101600  PF3D7_0101800  \\\n",
       "Sample_Names                                                             \n",
       "isolate_02.24HR.DHA.BRep1      -3.906168      -5.485332      -0.616218   \n",
       "isolate_02.24HR.DHA.BRep2      -1.466624      -6.339969      -1.214583   \n",
       "isolate_02.24HR.DHA.BRep3      -4.131331      -4.165494      -0.659281   \n",
       "isolate_02.24HR.DHA.BRep4      -3.355917      -6.072873       0.061882   \n",
       "isolate_02.24HR.UT.BRep1       -3.140499      -4.376034      -0.423899   \n",
       "\n",
       "                           PF3D7_0101900      ...        PF3D7_1478600  \\\n",
       "Sample_Names                                  ...                        \n",
       "isolate_02.24HR.DHA.BRep1      -3.131781      ...             0.577183   \n",
       "isolate_02.24HR.DHA.BRep2      -2.451385      ...             1.518408   \n",
       "isolate_02.24HR.DHA.BRep3      -3.138363      ...             0.785003   \n",
       "isolate_02.24HR.DHA.BRep4      -2.571563      ...             0.362859   \n",
       "isolate_02.24HR.UT.BRep1       -2.512600      ...             0.111077   \n",
       "\n",
       "                           PF3D7_1478800  PF3D7_1479000  PF3D7_1479200  \\\n",
       "Sample_Names                                                             \n",
       "isolate_02.24HR.DHA.BRep1       0.790819      -0.070151       0.024133   \n",
       "isolate_02.24HR.DHA.BRep2       0.659458      -1.288305       0.806314   \n",
       "isolate_02.24HR.DHA.BRep3       0.846346       0.279816       0.115002   \n",
       "isolate_02.24HR.DHA.BRep4       0.927822       0.375290       1.113241   \n",
       "isolate_02.24HR.UT.BRep1       -0.718147       0.193968      -0.125951   \n",
       "\n",
       "                           PF3D7_1479400  PF3D7_1479500  PF3D7_1479600  \\\n",
       "Sample_Names                                                             \n",
       "isolate_02.24HR.DHA.BRep1      -2.215227      -1.957654      -2.188635   \n",
       "isolate_02.24HR.DHA.BRep2      -3.733712      -1.990368      -1.633418   \n",
       "isolate_02.24HR.DHA.BRep3      -1.305902      -0.679212      -2.099512   \n",
       "isolate_02.24HR.DHA.BRep4      -4.016287      -1.327287      -2.375500   \n",
       "isolate_02.24HR.UT.BRep1        0.048244      -1.316566      -2.247523   \n",
       "\n",
       "                           PF3D7_1479900  PF3D7_1480000  PF3D7_1480100  \n",
       "Sample_Names                                                            \n",
       "isolate_02.24HR.DHA.BRep1      -1.722201      -3.995680      -0.902979  \n",
       "isolate_02.24HR.DHA.BRep2      -2.104227      -5.767710      -2.177930  \n",
       "isolate_02.24HR.DHA.BRep3      -1.626372      -4.422711      -1.408485  \n",
       "isolate_02.24HR.DHA.BRep4      -1.939162      -3.500963      -0.796143  \n",
       "isolate_02.24HR.UT.BRep1       -1.104079      -4.776909      -2.218115  \n",
       "\n",
       "[5 rows x 4953 columns]"
      ]
     },
     "execution_count": 28,
     "metadata": {},
     "output_type": "execute_result"
    }
   ],
   "source": [
    "X_test.head()\n"
   ]
  },
  {
   "cell_type": "code",
   "execution_count": 29,
   "metadata": {},
   "outputs": [
    {
     "data": {
      "text/html": [
       "<div>\n",
       "<style scoped>\n",
       "    .dataframe tbody tr th:only-of-type {\n",
       "        vertical-align: middle;\n",
       "    }\n",
       "\n",
       "    .dataframe tbody tr th {\n",
       "        vertical-align: top;\n",
       "    }\n",
       "\n",
       "    .dataframe thead th {\n",
       "        text-align: right;\n",
       "    }\n",
       "</style>\n",
       "<table border=\"1\" class=\"dataframe\">\n",
       "  <thead>\n",
       "    <tr style=\"text-align: right;\">\n",
       "      <th></th>\n",
       "      <th>Asexual_Stage</th>\n",
       "      <th>Isolate</th>\n",
       "      <th>PF3D7_0100100</th>\n",
       "      <th>PF3D7_0100200</th>\n",
       "      <th>PF3D7_0100300</th>\n",
       "      <th>PF3D7_0100600</th>\n",
       "      <th>PF3D7_0100800</th>\n",
       "      <th>PF3D7_0101300</th>\n",
       "      <th>PF3D7_0101600</th>\n",
       "      <th>PF3D7_0101800</th>\n",
       "      <th>...</th>\n",
       "      <th>PF3D7_1478800</th>\n",
       "      <th>PF3D7_1479000</th>\n",
       "      <th>PF3D7_1479200</th>\n",
       "      <th>PF3D7_1479400</th>\n",
       "      <th>PF3D7_1479500</th>\n",
       "      <th>PF3D7_1479600</th>\n",
       "      <th>PF3D7_1479900</th>\n",
       "      <th>PF3D7_1480000</th>\n",
       "      <th>PF3D7_1480100</th>\n",
       "      <th>ClearanceRate</th>\n",
       "    </tr>\n",
       "    <tr>\n",
       "      <th>Sample_Names</th>\n",
       "      <th></th>\n",
       "      <th></th>\n",
       "      <th></th>\n",
       "      <th></th>\n",
       "      <th></th>\n",
       "      <th></th>\n",
       "      <th></th>\n",
       "      <th></th>\n",
       "      <th></th>\n",
       "      <th></th>\n",
       "      <th></th>\n",
       "      <th></th>\n",
       "      <th></th>\n",
       "      <th></th>\n",
       "      <th></th>\n",
       "      <th></th>\n",
       "      <th></th>\n",
       "      <th></th>\n",
       "      <th></th>\n",
       "      <th></th>\n",
       "      <th></th>\n",
       "    </tr>\n",
       "  </thead>\n",
       "  <tbody>\n",
       "    <tr>\n",
       "      <th>isolate_02.24HR.DHA.BRep1</th>\n",
       "      <td>50</td>\n",
       "      <td>isolate_02</td>\n",
       "      <td>-1.715683</td>\n",
       "      <td>-3.141518</td>\n",
       "      <td>-1.208746</td>\n",
       "      <td>-5.530610</td>\n",
       "      <td>-5.365596</td>\n",
       "      <td>-3.906168</td>\n",
       "      <td>-5.485332</td>\n",
       "      <td>-0.616218</td>\n",
       "      <td>...</td>\n",
       "      <td>0.790819</td>\n",
       "      <td>-0.070151</td>\n",
       "      <td>0.024133</td>\n",
       "      <td>-2.215227</td>\n",
       "      <td>-1.957654</td>\n",
       "      <td>-2.188635</td>\n",
       "      <td>-1.722201</td>\n",
       "      <td>-3.995680</td>\n",
       "      <td>-0.902979</td>\n",
       "      <td>NaN</td>\n",
       "    </tr>\n",
       "    <tr>\n",
       "      <th>isolate_02.24HR.DHA.BRep2</th>\n",
       "      <td>16</td>\n",
       "      <td>isolate_02</td>\n",
       "      <td>-3.984082</td>\n",
       "      <td>-1.798437</td>\n",
       "      <td>-3.298710</td>\n",
       "      <td>-5.418417</td>\n",
       "      <td>-5.188566</td>\n",
       "      <td>-1.466624</td>\n",
       "      <td>-6.339969</td>\n",
       "      <td>-1.214583</td>\n",
       "      <td>...</td>\n",
       "      <td>0.659458</td>\n",
       "      <td>-1.288305</td>\n",
       "      <td>0.806314</td>\n",
       "      <td>-3.733712</td>\n",
       "      <td>-1.990368</td>\n",
       "      <td>-1.633418</td>\n",
       "      <td>-2.104227</td>\n",
       "      <td>-5.767710</td>\n",
       "      <td>-2.177930</td>\n",
       "      <td>NaN</td>\n",
       "    </tr>\n",
       "    <tr>\n",
       "      <th>isolate_02.24HR.DHA.BRep3</th>\n",
       "      <td>8</td>\n",
       "      <td>isolate_02</td>\n",
       "      <td>-1.337844</td>\n",
       "      <td>-1.202280</td>\n",
       "      <td>-1.521241</td>\n",
       "      <td>-5.591948</td>\n",
       "      <td>-4.975055</td>\n",
       "      <td>-4.131331</td>\n",
       "      <td>-4.165494</td>\n",
       "      <td>-0.659281</td>\n",
       "      <td>...</td>\n",
       "      <td>0.846346</td>\n",
       "      <td>0.279816</td>\n",
       "      <td>0.115002</td>\n",
       "      <td>-1.305902</td>\n",
       "      <td>-0.679212</td>\n",
       "      <td>-2.099512</td>\n",
       "      <td>-1.626372</td>\n",
       "      <td>-4.422711</td>\n",
       "      <td>-1.408485</td>\n",
       "      <td>NaN</td>\n",
       "    </tr>\n",
       "    <tr>\n",
       "      <th>isolate_02.24HR.DHA.BRep4</th>\n",
       "      <td>6</td>\n",
       "      <td>isolate_02</td>\n",
       "      <td>-2.168455</td>\n",
       "      <td>-1.575822</td>\n",
       "      <td>-0.996323</td>\n",
       "      <td>-3.580074</td>\n",
       "      <td>-5.074178</td>\n",
       "      <td>-3.355917</td>\n",
       "      <td>-6.072873</td>\n",
       "      <td>0.061882</td>\n",
       "      <td>...</td>\n",
       "      <td>0.927822</td>\n",
       "      <td>0.375290</td>\n",
       "      <td>1.113241</td>\n",
       "      <td>-4.016287</td>\n",
       "      <td>-1.327287</td>\n",
       "      <td>-2.375500</td>\n",
       "      <td>-1.939162</td>\n",
       "      <td>-3.500963</td>\n",
       "      <td>-0.796143</td>\n",
       "      <td>NaN</td>\n",
       "    </tr>\n",
       "    <tr>\n",
       "      <th>isolate_02.24HR.UT.BRep1</th>\n",
       "      <td>48</td>\n",
       "      <td>isolate_02</td>\n",
       "      <td>-1.129170</td>\n",
       "      <td>-2.068018</td>\n",
       "      <td>-2.558206</td>\n",
       "      <td>-2.850875</td>\n",
       "      <td>-4.441118</td>\n",
       "      <td>-3.140499</td>\n",
       "      <td>-4.376034</td>\n",
       "      <td>-0.423899</td>\n",
       "      <td>...</td>\n",
       "      <td>-0.718147</td>\n",
       "      <td>0.193968</td>\n",
       "      <td>-0.125951</td>\n",
       "      <td>0.048244</td>\n",
       "      <td>-1.316566</td>\n",
       "      <td>-2.247523</td>\n",
       "      <td>-1.104079</td>\n",
       "      <td>-4.776909</td>\n",
       "      <td>-2.218115</td>\n",
       "      <td>NaN</td>\n",
       "    </tr>\n",
       "  </tbody>\n",
       "</table>\n",
       "<p>5 rows × 4955 columns</p>\n",
       "</div>"
      ],
      "text/plain": [
       "                           Asexual_Stage     Isolate  PF3D7_0100100  \\\n",
       "Sample_Names                                                          \n",
       "isolate_02.24HR.DHA.BRep1             50  isolate_02      -1.715683   \n",
       "isolate_02.24HR.DHA.BRep2             16  isolate_02      -3.984082   \n",
       "isolate_02.24HR.DHA.BRep3              8  isolate_02      -1.337844   \n",
       "isolate_02.24HR.DHA.BRep4              6  isolate_02      -2.168455   \n",
       "isolate_02.24HR.UT.BRep1              48  isolate_02      -1.129170   \n",
       "\n",
       "                           PF3D7_0100200  PF3D7_0100300  PF3D7_0100600  \\\n",
       "Sample_Names                                                             \n",
       "isolate_02.24HR.DHA.BRep1      -3.141518      -1.208746      -5.530610   \n",
       "isolate_02.24HR.DHA.BRep2      -1.798437      -3.298710      -5.418417   \n",
       "isolate_02.24HR.DHA.BRep3      -1.202280      -1.521241      -5.591948   \n",
       "isolate_02.24HR.DHA.BRep4      -1.575822      -0.996323      -3.580074   \n",
       "isolate_02.24HR.UT.BRep1       -2.068018      -2.558206      -2.850875   \n",
       "\n",
       "                           PF3D7_0100800  PF3D7_0101300  PF3D7_0101600  \\\n",
       "Sample_Names                                                             \n",
       "isolate_02.24HR.DHA.BRep1      -5.365596      -3.906168      -5.485332   \n",
       "isolate_02.24HR.DHA.BRep2      -5.188566      -1.466624      -6.339969   \n",
       "isolate_02.24HR.DHA.BRep3      -4.975055      -4.131331      -4.165494   \n",
       "isolate_02.24HR.DHA.BRep4      -5.074178      -3.355917      -6.072873   \n",
       "isolate_02.24HR.UT.BRep1       -4.441118      -3.140499      -4.376034   \n",
       "\n",
       "                           PF3D7_0101800      ...        PF3D7_1478800  \\\n",
       "Sample_Names                                  ...                        \n",
       "isolate_02.24HR.DHA.BRep1      -0.616218      ...             0.790819   \n",
       "isolate_02.24HR.DHA.BRep2      -1.214583      ...             0.659458   \n",
       "isolate_02.24HR.DHA.BRep3      -0.659281      ...             0.846346   \n",
       "isolate_02.24HR.DHA.BRep4       0.061882      ...             0.927822   \n",
       "isolate_02.24HR.UT.BRep1       -0.423899      ...            -0.718147   \n",
       "\n",
       "                           PF3D7_1479000  PF3D7_1479200  PF3D7_1479400  \\\n",
       "Sample_Names                                                             \n",
       "isolate_02.24HR.DHA.BRep1      -0.070151       0.024133      -2.215227   \n",
       "isolate_02.24HR.DHA.BRep2      -1.288305       0.806314      -3.733712   \n",
       "isolate_02.24HR.DHA.BRep3       0.279816       0.115002      -1.305902   \n",
       "isolate_02.24HR.DHA.BRep4       0.375290       1.113241      -4.016287   \n",
       "isolate_02.24HR.UT.BRep1        0.193968      -0.125951       0.048244   \n",
       "\n",
       "                           PF3D7_1479500  PF3D7_1479600  PF3D7_1479900  \\\n",
       "Sample_Names                                                             \n",
       "isolate_02.24HR.DHA.BRep1      -1.957654      -2.188635      -1.722201   \n",
       "isolate_02.24HR.DHA.BRep2      -1.990368      -1.633418      -2.104227   \n",
       "isolate_02.24HR.DHA.BRep3      -0.679212      -2.099512      -1.626372   \n",
       "isolate_02.24HR.DHA.BRep4      -1.327287      -2.375500      -1.939162   \n",
       "isolate_02.24HR.UT.BRep1       -1.316566      -2.247523      -1.104079   \n",
       "\n",
       "                           PF3D7_1480000  PF3D7_1480100  ClearanceRate  \n",
       "Sample_Names                                                            \n",
       "isolate_02.24HR.DHA.BRep1      -3.995680      -0.902979            NaN  \n",
       "isolate_02.24HR.DHA.BRep2      -5.767710      -2.177930            NaN  \n",
       "isolate_02.24HR.DHA.BRep3      -4.422711      -1.408485            NaN  \n",
       "isolate_02.24HR.DHA.BRep4      -3.500963      -0.796143            NaN  \n",
       "isolate_02.24HR.UT.BRep1       -4.776909      -2.218115            NaN  \n",
       "\n",
       "[5 rows x 4955 columns]"
      ]
     },
     "execution_count": 29,
     "metadata": {},
     "output_type": "execute_result"
    }
   ],
   "source": [
    "df_test.head()"
   ]
  },
  {
   "cell_type": "code",
   "execution_count": 30,
   "metadata": {},
   "outputs": [
    {
     "data": {
      "text/plain": [
       "Index([u'Isolate', u'Predicted_Categorical_Clearance', u'Probability'], dtype='object')"
      ]
     },
     "execution_count": 30,
     "metadata": {},
     "output_type": "execute_result"
    }
   ],
   "source": [
    "prefinal_df.columns"
   ]
  },
  {
   "cell_type": "code",
   "execution_count": 31,
   "metadata": {},
   "outputs": [],
   "source": [
    "submision = []\n",
    "for m in df_test[\"Isolate\"].unique():\n",
    "    std = prefinal_df[prefinal_df[\"Isolate\"] == m][\"Probability\"].std()\n",
    "    maximun = prefinal_df[prefinal_df[\"Isolate\"] == m][\"Probability\"].max()\n",
    "    minimun = prefinal_df[prefinal_df[\"Isolate\"] == m][\"Probability\"].min()\n",
    "    if minimun+std > 0.6 :\n",
    "        submision.append((m, \"FAST\", minimun+std  ))\n",
    "    else:\n",
    "        submision.append((m, \"SLOW\", minimun+std  ))"
   ]
  },
  {
   "cell_type": "code",
   "execution_count": 32,
   "metadata": {},
   "outputs": [],
   "source": [
    "final_df = pd.DataFrame(submision,columns=prefinal_df.columns)"
   ]
  },
  {
   "cell_type": "code",
   "execution_count": 40,
   "metadata": {},
   "outputs": [
    {
     "data": {
      "text/html": [
       "<div>\n",
       "<style scoped>\n",
       "    .dataframe tbody tr th:only-of-type {\n",
       "        vertical-align: middle;\n",
       "    }\n",
       "\n",
       "    .dataframe tbody tr th {\n",
       "        vertical-align: top;\n",
       "    }\n",
       "\n",
       "    .dataframe thead th {\n",
       "        text-align: right;\n",
       "    }\n",
       "</style>\n",
       "<table border=\"1\" class=\"dataframe\">\n",
       "  <thead>\n",
       "    <tr style=\"text-align: right;\">\n",
       "      <th></th>\n",
       "      <th>Isolate</th>\n",
       "      <th>Predicted_Categorical_Clearance</th>\n",
       "      <th>Probability</th>\n",
       "    </tr>\n",
       "  </thead>\n",
       "  <tbody>\n",
       "    <tr>\n",
       "      <th>0</th>\n",
       "      <td>isolate_02</td>\n",
       "      <td>SLOW</td>\n",
       "      <td>0.588319</td>\n",
       "    </tr>\n",
       "    <tr>\n",
       "      <th>1</th>\n",
       "      <td>isolate_09</td>\n",
       "      <td>FAST</td>\n",
       "      <td>0.608240</td>\n",
       "    </tr>\n",
       "    <tr>\n",
       "      <th>2</th>\n",
       "      <td>isolate_10</td>\n",
       "      <td>FAST</td>\n",
       "      <td>0.615748</td>\n",
       "    </tr>\n",
       "    <tr>\n",
       "      <th>3</th>\n",
       "      <td>isolate_11</td>\n",
       "      <td>FAST</td>\n",
       "      <td>0.637118</td>\n",
       "    </tr>\n",
       "    <tr>\n",
       "      <th>4</th>\n",
       "      <td>isolate_12</td>\n",
       "      <td>FAST</td>\n",
       "      <td>0.616586</td>\n",
       "    </tr>\n",
       "  </tbody>\n",
       "</table>\n",
       "</div>"
      ],
      "text/plain": [
       "      Isolate Predicted_Categorical_Clearance  Probability\n",
       "0  isolate_02                            SLOW     0.588319\n",
       "1  isolate_09                            FAST     0.608240\n",
       "2  isolate_10                            FAST     0.615748\n",
       "3  isolate_11                            FAST     0.637118\n",
       "4  isolate_12                            FAST     0.616586"
      ]
     },
     "execution_count": 40,
     "metadata": {},
     "output_type": "execute_result"
    }
   ],
   "source": [
    "final_df.head()"
   ]
  },
  {
   "cell_type": "code",
   "execution_count": 48,
   "metadata": {},
   "outputs": [
    {
     "data": {
      "text/html": [
       "<div>\n",
       "<style scoped>\n",
       "    .dataframe tbody tr th:only-of-type {\n",
       "        vertical-align: middle;\n",
       "    }\n",
       "\n",
       "    .dataframe tbody tr th {\n",
       "        vertical-align: top;\n",
       "    }\n",
       "\n",
       "    .dataframe thead th {\n",
       "        text-align: right;\n",
       "    }\n",
       "</style>\n",
       "<table border=\"1\" class=\"dataframe\">\n",
       "  <thead>\n",
       "    <tr style=\"text-align: right;\">\n",
       "      <th></th>\n",
       "      <th>Isolate</th>\n",
       "      <th>Predicted_Categorical_Clearance</th>\n",
       "      <th>Probability</th>\n",
       "    </tr>\n",
       "    <tr>\n",
       "      <th>Predicted_Categorical_Clearance</th>\n",
       "      <th></th>\n",
       "      <th></th>\n",
       "      <th></th>\n",
       "    </tr>\n",
       "  </thead>\n",
       "  <tbody>\n",
       "    <tr>\n",
       "      <th>FAST</th>\n",
       "      <td>24</td>\n",
       "      <td>1</td>\n",
       "      <td>24</td>\n",
       "    </tr>\n",
       "    <tr>\n",
       "      <th>SLOW</th>\n",
       "      <td>8</td>\n",
       "      <td>1</td>\n",
       "      <td>8</td>\n",
       "    </tr>\n",
       "  </tbody>\n",
       "</table>\n",
       "</div>"
      ],
      "text/plain": [
       "                                 Isolate  Predicted_Categorical_Clearance  \\\n",
       "Predicted_Categorical_Clearance                                             \n",
       "FAST                                  24                                1   \n",
       "SLOW                                   8                                1   \n",
       "\n",
       "                                 Probability  \n",
       "Predicted_Categorical_Clearance               \n",
       "FAST                                      24  \n",
       "SLOW                                       8  "
      ]
     },
     "execution_count": 48,
     "metadata": {},
     "output_type": "execute_result"
    }
   ],
   "source": [
    "final_df.groupby(\"Predicted_Categorical_Clearance\").nunique()"
   ]
  },
  {
   "cell_type": "code",
   "execution_count": 33,
   "metadata": {},
   "outputs": [],
   "source": [
    "# final_df.to_csv(\"SubCh2_Submission_DBB.txt\",sep=\"\\t\",index=False)"
   ]
  },
  {
   "cell_type": "code",
   "execution_count": 49,
   "metadata": {},
   "outputs": [
    {
     "data": {
      "text/plain": [
       "Index([u'Isolate', u'Predicted_Categorical_Clearance', u'Probability'], dtype='object')"
      ]
     },
     "execution_count": 49,
     "metadata": {},
     "output_type": "execute_result"
    }
   ],
   "source": [
    "final_df.columns"
   ]
  },
  {
   "cell_type": "code",
   "execution_count": 50,
   "metadata": {},
   "outputs": [
    {
     "data": {
      "text/plain": [
       "(32, 3)"
      ]
     },
     "execution_count": 50,
     "metadata": {},
     "output_type": "execute_result"
    }
   ],
   "source": [
    "final_df.shape"
   ]
  },
  {
   "cell_type": "code",
   "execution_count": 34,
   "metadata": {},
   "outputs": [
    {
     "data": {
      "text/plain": [
       "array([0.00013747, 0.00014607, 0.00011359, ..., 0.00010942, 0.00012318,\n",
       "       0.00014408])"
      ]
     },
     "execution_count": 34,
     "metadata": {},
     "output_type": "execute_result"
    }
   ],
   "source": [
    "rfc.feature_importances_ "
   ]
  },
  {
   "cell_type": "code",
   "execution_count": 36,
   "metadata": {},
   "outputs": [],
   "source": [
    "d = { 'Features':X.columns, 'Importances':rfc.feature_importances_}\n",
    "df_features = pd.DataFrame(data=d)"
   ]
  },
  {
   "cell_type": "code",
   "execution_count": 37,
   "metadata": {},
   "outputs": [],
   "source": [
    "df_features.sort_values('Importances',inplace=True,ascending=False)"
   ]
  },
  {
   "cell_type": "code",
   "execution_count": 38,
   "metadata": {},
   "outputs": [
    {
     "data": {
      "text/html": [
       "<div>\n",
       "<style scoped>\n",
       "    .dataframe tbody tr th:only-of-type {\n",
       "        vertical-align: middle;\n",
       "    }\n",
       "\n",
       "    .dataframe tbody tr th {\n",
       "        vertical-align: top;\n",
       "    }\n",
       "\n",
       "    .dataframe thead th {\n",
       "        text-align: right;\n",
       "    }\n",
       "</style>\n",
       "<table border=\"1\" class=\"dataframe\">\n",
       "  <thead>\n",
       "    <tr style=\"text-align: right;\">\n",
       "      <th></th>\n",
       "      <th>Features</th>\n",
       "      <th>Importances</th>\n",
       "    </tr>\n",
       "  </thead>\n",
       "  <tbody>\n",
       "    <tr>\n",
       "      <th>4228</th>\n",
       "      <td>PF3D7_1372000</td>\n",
       "      <td>0.005446</td>\n",
       "    </tr>\n",
       "    <tr>\n",
       "      <th>1697</th>\n",
       "      <td>PF3D7_0805000</td>\n",
       "      <td>0.003753</td>\n",
       "    </tr>\n",
       "    <tr>\n",
       "      <th>3485</th>\n",
       "      <td>PF3D7_1245300</td>\n",
       "      <td>0.003595</td>\n",
       "    </tr>\n",
       "    <tr>\n",
       "      <th>3494</th>\n",
       "      <td>PF3D7_1246300</td>\n",
       "      <td>0.003539</td>\n",
       "    </tr>\n",
       "    <tr>\n",
       "      <th>2705</th>\n",
       "      <td>PF3D7_1107700</td>\n",
       "      <td>0.003424</td>\n",
       "    </tr>\n",
       "    <tr>\n",
       "      <th>4492</th>\n",
       "      <td>PF3D7_1429900</td>\n",
       "      <td>0.003348</td>\n",
       "    </tr>\n",
       "    <tr>\n",
       "      <th>2635</th>\n",
       "      <td>PF3D7_1038700</td>\n",
       "      <td>0.003250</td>\n",
       "    </tr>\n",
       "    <tr>\n",
       "      <th>1302</th>\n",
       "      <td>PF3D7_0624800</td>\n",
       "      <td>0.003197</td>\n",
       "    </tr>\n",
       "    <tr>\n",
       "      <th>4607</th>\n",
       "      <td>PF3D7_1442000</td>\n",
       "      <td>0.003036</td>\n",
       "    </tr>\n",
       "    <tr>\n",
       "      <th>3840</th>\n",
       "      <td>PF3D7_1328400</td>\n",
       "      <td>0.002926</td>\n",
       "    </tr>\n",
       "  </tbody>\n",
       "</table>\n",
       "</div>"
      ],
      "text/plain": [
       "           Features  Importances\n",
       "4228  PF3D7_1372000     0.005446\n",
       "1697  PF3D7_0805000     0.003753\n",
       "3485  PF3D7_1245300     0.003595\n",
       "3494  PF3D7_1246300     0.003539\n",
       "2705  PF3D7_1107700     0.003424\n",
       "4492  PF3D7_1429900     0.003348\n",
       "2635  PF3D7_1038700     0.003250\n",
       "1302  PF3D7_0624800     0.003197\n",
       "4607  PF3D7_1442000     0.003036\n",
       "3840  PF3D7_1328400     0.002926"
      ]
     },
     "execution_count": 38,
     "metadata": {},
     "output_type": "execute_result"
    }
   ],
   "source": [
    "df_features.head(n=10)"
   ]
  },
  {
   "cell_type": "code",
   "execution_count": 39,
   "metadata": {},
   "outputs": [],
   "source": [
    "df_features.to_csv(\"features_importances_RFC_subCh2.csv\")"
   ]
  },
  {
   "cell_type": "code",
   "execution_count": null,
   "metadata": {},
   "outputs": [],
   "source": []
  }
 ],
 "metadata": {
  "kernelspec": {
   "display_name": "Python 2",
   "language": "python",
   "name": "python2"
  },
  "language_info": {
   "codemirror_mode": {
    "name": "ipython",
    "version": 2
   },
   "file_extension": ".py",
   "mimetype": "text/x-python",
   "name": "python",
   "nbconvert_exporter": "python",
   "pygments_lexer": "ipython2",
   "version": "2.7.14"
  }
 },
 "nbformat": 4,
 "nbformat_minor": 2
}
