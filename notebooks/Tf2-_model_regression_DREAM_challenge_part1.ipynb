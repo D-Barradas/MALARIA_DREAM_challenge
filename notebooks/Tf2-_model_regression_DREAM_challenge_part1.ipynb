{
 "cells": [
  {
   "cell_type": "code",
   "execution_count": 1,
   "metadata": {},
   "outputs": [
    {
     "name": "stderr",
     "output_type": "stream",
     "text": [
      "/Users/barradd/anaconda2/lib/python2.7/site-packages/h5py/__init__.py:36: FutureWarning: Conversion of the second argument of issubdtype from `float` to `np.floating` is deprecated. In future, it will be treated as `np.float64 == np.dtype(float).type`.\n",
      "  from ._conv import register_converters as _register_converters\n"
     ]
    }
   ],
   "source": [
    "import os ,sys \n",
    "import pandas as pd \n",
    "import matplotlib.pyplot as plt\n",
    "import numpy as np \n",
    "from sklearn.preprocessing import StandardScaler\n",
    "from sklearn.model_selection import train_test_split\n",
    "import tensorflow as tf\n",
    "from tensorflow import keras\n",
    "from tensorflow.keras import layers"
   ]
  },
  {
   "cell_type": "code",
   "execution_count": 79,
   "metadata": {},
   "outputs": [],
   "source": [
    "# !pip install tensorflow==1.9.0\n",
    "keras.backend.clear_session()"
   ]
  },
  {
   "cell_type": "code",
   "execution_count": 43,
   "metadata": {},
   "outputs": [],
   "source": [
    "np.random.seed(101)\n",
    "# tf.set_random_seed(303)"
   ]
  },
  {
   "cell_type": "code",
   "execution_count": 44,
   "metadata": {},
   "outputs": [
    {
     "name": "stdout",
     "output_type": "stream",
     "text": [
      "1.9.0\n",
      "2.1.6-tf\n"
     ]
    }
   ],
   "source": [
    "print (tf.__version__)\n",
    "print (keras.__version__)"
   ]
  },
  {
   "cell_type": "code",
   "execution_count": 5,
   "metadata": {},
   "outputs": [],
   "source": [
    "df = pd.read_csv('SubCh1_TrainingData.csv')"
   ]
  },
  {
   "cell_type": "code",
   "execution_count": 6,
   "metadata": {},
   "outputs": [],
   "source": [
    "df.set_index(\"Sample_Name\",inplace=True)"
   ]
  },
  {
   "cell_type": "code",
   "execution_count": 7,
   "metadata": {},
   "outputs": [],
   "source": [
    "df_edit = pd.concat( [df, pd.get_dummies(df[\"Treatment\"]),pd.get_dummies( df[\"Timepoint\"])]\n",
    "                         ,axis=1,sort=True )"
   ]
  },
  {
   "cell_type": "code",
   "execution_count": 8,
   "metadata": {},
   "outputs": [],
   "source": [
    "df = df_edit.drop([\"Treatment\",\"Timepoint\",\"BioRep\",\"Isolate\"],axis=1)"
   ]
  },
  {
   "cell_type": "code",
   "execution_count": 9,
   "metadata": {},
   "outputs": [],
   "source": [
    "y = df[\"DHA_IC50\"]\n",
    "X = df.drop(\"DHA_IC50\",axis=1)"
   ]
  },
  {
   "cell_type": "code",
   "execution_count": 10,
   "metadata": {},
   "outputs": [],
   "source": [
    "# for m in df.columns:\n",
    "#     print (m,df[df[m].isna()].shape[0])\n",
    "sc = StandardScaler()"
   ]
  },
  {
   "cell_type": "code",
   "execution_count": 11,
   "metadata": {},
   "outputs": [
    {
     "name": "stderr",
     "output_type": "stream",
     "text": [
      "/Users/barradd/anaconda2/lib/python2.7/site-packages/sklearn/preprocessing/data.py:617: DataConversionWarning: Data with input dtype uint8, float64 were all converted to float64 by StandardScaler.\n",
      "  return self.partial_fit(X, y)\n",
      "/Users/barradd/anaconda2/lib/python2.7/site-packages/sklearn/base.py:462: DataConversionWarning: Data with input dtype uint8, float64 were all converted to float64 by StandardScaler.\n",
      "  return self.fit(X, **fit_params).transform(X)\n"
     ]
    }
   ],
   "source": [
    "Xsc = sc.fit_transform(X)"
   ]
  },
  {
   "cell_type": "code",
   "execution_count": 12,
   "metadata": {},
   "outputs": [],
   "source": [
    "X_train, X_test, y_train, y_test = train_test_split(Xsc, y,\n",
    "                                                    test_size=0.3,\n",
    "                                                    random_state=101)"
   ]
  },
  {
   "cell_type": "code",
   "execution_count": 13,
   "metadata": {},
   "outputs": [
    {
     "data": {
      "text/plain": [
       "5544"
      ]
     },
     "execution_count": 13,
     "metadata": {},
     "output_type": "execute_result"
    }
   ],
   "source": [
    "X_train.shape[1]"
   ]
  },
  {
   "cell_type": "code",
   "execution_count": 14,
   "metadata": {},
   "outputs": [],
   "source": [
    "def build_model():\n",
    "    model = keras.Sequential([\n",
    "    layers.Dense(640, activation=tf.nn.relu, input_shape=[X_train.shape[1]]),\n",
    "    layers.Dense(640, activation=tf.nn.relu),\n",
    "        layers.Dense(640, activation=tf.nn.relu),\n",
    "        layers.Dense(640, activation=tf.nn.relu),\n",
    "        layers.Dense(640, activation=tf.nn.relu),\n",
    "   # layers.Dense(64, activation=tf.nn.relu),\n",
    "    #layers.Dense(64, activation=tf.nn.relu),\n",
    "#         layers.Dense(128, activation=tf.nn.relu),\n",
    "#         layers.Dense(128, activation=tf.nn.relu),\n",
    "#         layers.Dense(128, activation=tf.nn.relu),\n",
    "    layers.Dense(64, activation=tf.nn.relu),\n",
    "    layers.Dense(64, activation=tf.nn.relu),\n",
    "    layers.Dense(64, activation=tf.nn.relu),\n",
    "    layers.Dense(64, activation=tf.nn.relu),\n",
    "    layers.Dense(1)\n",
    "  ])\n",
    "\n",
    "    optimizer = tf.keras.optimizers.RMSprop(0.001)\n",
    "\n",
    "    model.compile(loss='mean_squared_error',\n",
    "                optimizer=optimizer,\n",
    "                metrics=['mean_absolute_error', 'mean_squared_error'])\n",
    "    return model"
   ]
  },
  {
   "cell_type": "code",
   "execution_count": 87,
   "metadata": {},
   "outputs": [
    {
     "name": "stdout",
     "output_type": "stream",
     "text": [
      "_________________________________________________________________\n",
      "Layer (type)                 Output Shape              Param #   \n",
      "=================================================================\n",
      "dense_10 (Dense)             (None, 640)               3548800   \n",
      "_________________________________________________________________\n",
      "dense_11 (Dense)             (None, 640)               410240    \n",
      "_________________________________________________________________\n",
      "dense_12 (Dense)             (None, 640)               410240    \n",
      "_________________________________________________________________\n",
      "dense_13 (Dense)             (None, 640)               410240    \n",
      "_________________________________________________________________\n",
      "dense_14 (Dense)             (None, 640)               410240    \n",
      "_________________________________________________________________\n",
      "dense_15 (Dense)             (None, 64)                41024     \n",
      "_________________________________________________________________\n",
      "dense_16 (Dense)             (None, 64)                4160      \n",
      "_________________________________________________________________\n",
      "dense_17 (Dense)             (None, 64)                4160      \n",
      "_________________________________________________________________\n",
      "dense_18 (Dense)             (None, 64)                4160      \n",
      "_________________________________________________________________\n",
      "dense_19 (Dense)             (None, 1)                 65        \n",
      "=================================================================\n",
      "Total params: 5,243,329\n",
      "Trainable params: 5,243,329\n",
      "Non-trainable params: 0\n",
      "_________________________________________________________________\n"
     ]
    }
   ],
   "source": [
    "model = build_model()\n",
    "model.summary()"
   ]
  },
  {
   "cell_type": "code",
   "execution_count": 16,
   "metadata": {},
   "outputs": [],
   "source": [
    "# Display training progress by printing a single dot for each completed epoch\n",
    "class PrintDot(keras.callbacks.Callback):\n",
    "    def on_epoch_end(self, epoch, logs):\n",
    "        if epoch % 100 == 0: \n",
    "            print('.')\n",
    "            #print('.', end='')\n",
    "\n",
    "EPOCHS = 1000\n",
    "\n",
    "# history = model.fit(\n",
    "#   X_train, y_train,\n",
    "#   epochs=EPOCHS, validation_split = 0.2, verbose=0,\n",
    "#   callbacks=[PrintDot()])"
   ]
  },
  {
   "cell_type": "code",
   "execution_count": 17,
   "metadata": {},
   "outputs": [],
   "source": [
    "# hist = pd.DataFrame(history.history)\n",
    "# hist['epoch'] = history.epoch\n",
    "# hist.tail()"
   ]
  },
  {
   "cell_type": "code",
   "execution_count": 18,
   "metadata": {},
   "outputs": [],
   "source": [
    "def plot_history(history):\n",
    "    \n",
    "    hist = pd.DataFrame(history.history)\n",
    "    hist['epoch'] = history.epoch\n",
    "\n",
    "    plt.figure()\n",
    "    plt.xlabel('Epoch')\n",
    "    plt.ylabel('Mean Abs Error [MAE]')\n",
    "    plt.plot(hist['epoch'], hist['mean_absolute_error'],\n",
    "           label='Train Error')\n",
    "    plt.plot(hist['epoch'], hist['val_mean_absolute_error'],\n",
    "           label = 'Val Error')\n",
    "#     plt.ylim([0,5])\n",
    "    plt.ylim([0,2])\n",
    "    plt.legend()\n",
    "\n",
    "    plt.figure()\n",
    "    plt.xlabel('Epoch')\n",
    "#     plt.ylabel('Mean Square Error [$MPG^2$]')\n",
    "    plt.ylabel('Mean Square Error [MSE]')\n",
    "    plt.plot(hist['epoch'], hist['mean_squared_error'],\n",
    "           label='Train Error')\n",
    "    plt.plot(hist['epoch'], hist['val_mean_squared_error'],\n",
    "           label = 'Val Error')\n",
    "#     plt.ylim([0,20])\n",
    "    plt.ylim([0,5])\n",
    "    plt.legend()\n",
    "    plt.show()\n",
    "\n",
    "\n",
    "#plot_history(history)"
   ]
  },
  {
   "cell_type": "code",
   "execution_count": 19,
   "metadata": {},
   "outputs": [],
   "source": [
    "# model = build_model()\n",
    "\n",
    "# The patience parameter is the amount of epochs to check for improvement\n",
    "early_stop = keras.callbacks.EarlyStopping(monitor='val_loss', patience=10)\n",
    "\n",
    "# history = model.fit(X_train, y_train, epochs=1000,batch_size=2,\n",
    "#                     validation_split = 0.2, verbose=0, callbacks=[early_stop, PrintDot()])\n",
    "\n",
    "\n",
    "# plot_history(history)"
   ]
  },
  {
   "cell_type": "code",
   "execution_count": 98,
   "metadata": {},
   "outputs": [
    {
     "name": "stdout",
     "output_type": "stream",
     "text": [
      ".\n"
     ]
    }
   ],
   "source": [
    "history = model.fit(X_train, y_train, epochs=1000,batch_size=2,\n",
    "                    validation_split = 0.2, verbose=0, callbacks=[early_stop, PrintDot()])"
   ]
  },
  {
   "cell_type": "code",
   "execution_count": 99,
   "metadata": {},
   "outputs": [
    {
     "data": {
      "image/png": "[encoded data removed]",
      "text/plain": [
       "<Figure size 432x288 with 1 Axes>"
      ]
     },
     "metadata": {},
     "output_type": "display_data"
    },
    {
     "data": {
      "image/png": "[encoded data removed]",
      "text/plain": [
       "<Figure size 432x288 with 1 Axes>"
      ]
     },
     "metadata": {},
     "output_type": "display_data"
    }
   ],
   "source": [
    "plot_history(history)\n",
    "# plt.savefig(\"learning_curves_TF.png\",format=\"png\")"
   ]
  },
  {
   "cell_type": "code",
   "execution_count": 100,
   "metadata": {},
   "outputs": [
    {
     "name": "stdout",
     "output_type": "stream",
     "text": [
      "Testing set Mean Abs Error:  0.54 MAE\n"
     ]
    }
   ],
   "source": [
    "loss, mae, mse = model.evaluate(X_test, y_test, verbose=0)\n",
    "\n",
    "print(\"Testing set Mean Abs Error: {:5.2f} MAE\".format(mae))"
   ]
  },
  {
   "cell_type": "code",
   "execution_count": 101,
   "metadata": {},
   "outputs": [
    {
     "data": {
      "image/png": "[encoded data removed]",
      "text/plain": [
       "<Figure size 432x288 with 1 Axes>"
      ]
     },
     "metadata": {},
     "output_type": "display_data"
    }
   ],
   "source": [
    "test_predictions = model.predict(X_test).flatten()\n",
    "\n",
    "plt.scatter(y_test, test_predictions)\n",
    "plt.xlabel('True Values [MAE]')\n",
    "plt.ylabel('Predictions [MAE]')\n",
    "plt.axis('equal')\n",
    "plt.axis('square')\n",
    "plt.xlim([0,plt.xlim()[1]])\n",
    "plt.ylim([0,plt.ylim()[1]])\n",
    "_ = plt.plot([-100, 100], [-100, 100])\n",
    "# plt.savefig(\"MAE_scatter_TF.svg\",format=\"svg\")\n",
    "plt.show()\n"
   ]
  },
  {
   "cell_type": "code",
   "execution_count": 102,
   "metadata": {},
   "outputs": [
    {
     "data": {
      "image/png": "[encoded data removed]",
      "text/plain": [
       "<Figure size 432x288 with 1 Axes>"
      ]
     },
     "metadata": {},
     "output_type": "display_data"
    }
   ],
   "source": [
    "error = test_predictions - y_test\n",
    "plt.hist(error, bins = 25)\n",
    "plt.xlabel(\"Prediction Error [MAE]\")\n",
    "_ = plt.ylabel(\"Count\")\n",
    "# plt.savefig(\"MAE_hist_TF.svg\",format=\"svg\")\n",
    "plt.show()\n"
   ]
  },
  {
   "cell_type": "code",
   "execution_count": 75,
   "metadata": {},
   "outputs": [],
   "source": [
    "from sklearn.metrics import mean_absolute_error,mean_squared_error,r2_score"
   ]
  },
  {
   "cell_type": "code",
   "execution_count": 76,
   "metadata": {},
   "outputs": [
    {
     "name": "stdout",
     "output_type": "stream",
     "text": [
      "('R^2:', -0.4556839716373895)\n",
      "('MAE:', 0.46696547512194003)\n",
      "('MSE:', 0.3788374540447253)\n"
     ]
    }
   ],
   "source": [
    "print (\"R^2:\",r2_score(y_test, test_predictions))\n",
    "print (\"MAE:\",mean_absolute_error(y_test, test_predictions))\n",
    "print (\"MSE:\",mean_squared_error(y_test, test_predictions))"
   ]
  },
  {
   "cell_type": "code",
   "execution_count": 77,
   "metadata": {},
   "outputs": [],
   "source": [
    "def evaluate(model, test_features, test_labels):\n",
    "    predictions = model.predict(test_features).flatten()\n",
    "    errors = abs(predictions - test_labels)\n",
    "    mape = 100 * np.mean(errors / test_labels)\n",
    "    accuracy = 100 - mape\n",
    "    print('Model Performance')\n",
    "    print('Average Error: {:0.4f} degrees.'.format(np.mean(errors)))\n",
    "    print('Accuracy = {:0.2f}%.'.format(accuracy))\n",
    "    \n",
    "    return accuracy"
   ]
  },
  {
   "cell_type": "code",
   "execution_count": 103,
   "metadata": {},
   "outputs": [
    {
     "name": "stdout",
     "output_type": "stream",
     "text": [
      "Model Performance\n",
      "Average Error: 0.5358 degrees.\n",
      "Accuracy = 58.15%.\n"
     ]
    }
   ],
   "source": [
    "base_accuracy = evaluate(model, X_test, y_test)"
   ]
  },
  {
   "cell_type": "code",
   "execution_count": 29,
   "metadata": {},
   "outputs": [],
   "source": [
    "# model.save(\"my_TF1.9_model_copy_2.h5\")\n",
    "# model.save(\"my_TF1.9_model_copy_73acc.h5\")"
   ]
  },
  {
   "cell_type": "code",
   "execution_count": 30,
   "metadata": {},
   "outputs": [],
   "source": [
    "model.weighted_metrics\n"
   ]
  },
  {
   "cell_type": "code",
   "execution_count": 31,
   "metadata": {},
   "outputs": [
    {
     "data": {
      "text/plain": [
       "3548160"
      ]
     },
     "execution_count": 31,
     "metadata": {},
     "output_type": "execute_result"
    }
   ],
   "source": [
    "model.get_weights()[0].size"
   ]
  },
  {
   "cell_type": "code",
   "execution_count": 32,
   "metadata": {},
   "outputs": [
    {
     "data": {
      "text/plain": [
       "(82, (82, 5544))"
      ]
     },
     "execution_count": 32,
     "metadata": {},
     "output_type": "execute_result"
    }
   ],
   "source": [
    "len(X_test) , X_test.shape"
   ]
  },
  {
   "cell_type": "code",
   "execution_count": 33,
   "metadata": {},
   "outputs": [
    {
     "data": {
      "text/plain": [
       "(190, (190, 5544))"
      ]
     },
     "execution_count": 33,
     "metadata": {},
     "output_type": "execute_result"
    }
   ],
   "source": [
    "len(X_train) , X_train.shape"
   ]
  },
  {
   "cell_type": "code",
   "execution_count": 34,
   "metadata": {},
   "outputs": [],
   "source": [
    "##https://stackoverflow.com/questions/44119207/is-there-any-way-to-get-variable-importance-with-keras"
   ]
  },
  {
   "cell_type": "code",
   "execution_count": 35,
   "metadata": {},
   "outputs": [],
   "source": [
    "# !pip install eli5"
   ]
  },
  {
   "cell_type": "code",
   "execution_count": 36,
   "metadata": {},
   "outputs": [],
   "source": [
    "# from sklearn.metrics import mean_absolute_error,mean_squared_error,r2_score,classification_report, confusion_matrix,accuracy_score,matthews_corrcoef\n",
    "# import eli5\n",
    "# from sklearn.metrics import fbeta_score, make_scorer\n",
    "# from eli5.sklearn import PermutationImportance"
   ]
  },
  {
   "cell_type": "code",
   "execution_count": 37,
   "metadata": {},
   "outputs": [],
   "source": [
    "# ftwo_scorer = make_scorer(accuracy_score)\n"
   ]
  },
  {
   "cell_type": "code",
   "execution_count": 38,
   "metadata": {},
   "outputs": [],
   "source": [
    "# perm = PermutationImportance(model, random_state=np.random.seed(101),scoring=ftwo_scorer).fit(X_train,y_train)"
   ]
  },
  {
   "cell_type": "code",
   "execution_count": 39,
   "metadata": {},
   "outputs": [],
   "source": [
    "# eli5.show_weights(perm, feature_names = X.columns.tolist())"
   ]
  },
  {
   "cell_type": "code",
   "execution_count": 40,
   "metadata": {},
   "outputs": [],
   "source": [
    "# for n in y_test:\n",
    "# print (y_test)"
   ]
  },
  {
   "cell_type": "code",
   "execution_count": 41,
   "metadata": {},
   "outputs": [],
   "source": [
    "# test_predictions"
   ]
  },
  {
   "cell_type": "markdown",
   "metadata": {},
   "source": [
    "# from tf.keras.wrappers.scikit_learn import KerasClassifier, KerasRegressor\n",
    "\n",
    "from tensorflow.keras.wrappers.scikit_learn import KerasClassifier, KerasRegressor"
   ]
  },
  {
   "cell_type": "markdown",
   "metadata": {},
   "source": [
    "my_model = KerasRegressor(build_fn=build_model)  "
   ]
  },
  {
   "cell_type": "markdown",
   "metadata": {},
   "source": [
    "history2 = my_model.fit(X_train, y_train, epochs=1000,batch_size=2,\n",
    "                    validation_split = 0.2, verbose=0, callbacks=[early_stop, PrintDot()])"
   ]
  },
  {
   "cell_type": "markdown",
   "metadata": {},
   "source": [
    "plot_history(history2)"
   ]
  },
  {
   "cell_type": "markdown",
   "metadata": {},
   "source": [
    "perm = PermutationImportance(my_model, random_state=np.random.seed(101),n_iter=1).fit(X_train, y_train)\n",
    "#\n",
    "\n",
    "\n",
    "test_predictions2 = my_model.predict(X_test)\n",
    "# test_predictions2 = perm.predict(X_test).flatten()\n",
    "\n",
    "plt.scatter(y_test, test_predictions2)\n",
    "plt.xlabel('True Values [MAE]')\n",
    "plt.ylabel('Predictions [MAE]')\n",
    "plt.axis('equal')\n",
    "plt.axis('square')\n",
    "plt.xlim([0,plt.xlim()[1]])\n",
    "plt.ylim([0,plt.ylim()[1]])\n",
    "_ = plt.plot([-100, 100], [-100, 100])\n",
    "plt.show()\n",
    "\n",
    "\n",
    "error = test_predictions2 - y_test\n",
    "plt.hist(error, bins = 25)\n",
    "plt.xlabel(\"Prediction Error [MAE]\")\n",
    "_ = plt.ylabel(\"Count\")\n",
    "plt.show()\n",
    "\n",
    "base_accuracy = evaluate(my_model, X_test, y_test)"
   ]
  },
  {
   "cell_type": "markdown",
   "metadata": {},
   "source": [
    "print (\"R^2:\",r2_score(y_test, test_predictions2))\n",
    "print (\"MAE:\",mean_absolute_error(y_test, test_predictions2))\n",
    "print (\"MSE:\",mean_squared_error(y_test, test_predictions2))"
   ]
  },
  {
   "cell_type": "markdown",
   "metadata": {},
   "source": [
    "\n",
    "my_results = eli5.show_weights(perm, feature_names = X.columns.tolist(),top=50)"
   ]
  },
  {
   "cell_type": "markdown",
   "metadata": {},
   "source": [
    "# type(my_results)"
   ]
  },
  {
   "cell_type": "markdown",
   "metadata": {},
   "source": [
    "my_results"
   ]
  },
  {
   "cell_type": "markdown",
   "metadata": {},
   "source": [
    "Weight\tFeature\n",
    "0.0008 ± 0.0000\tPF3D7_0520900\n",
    "0.0006 ± 0.0000\tPF3D7_0933600\n",
    "0.0005 ± 0.0000\tPF3D7_1415100\n",
    "0.0005 ± 0.0000\tPF3D7_0514000\n",
    "0.0005 ± 0.0000\tPF3D7_0609900\n",
    "0.0005 ± 0.0000\tPF3D7_1421000\n",
    "0.0004 ± 0.0000\tPF3D7_1345700\n",
    "0.0004 ± 0.0000\tPF3D7_0405700\n",
    "0.0004 ± 0.0000\tPF3D7_1478700\n",
    "0.0004 ± 0.0000\tPF3D7_0401700\n",
    "0.0004 ± 0.0000\tPF3D7_1346200\n",
    "0.0004 ± 0.0000\tPF3D7_1464200\n",
    "0.0004 ± 0.0000\tPF3D7_0931900\n",
    "0.0004 ± 0.0000\tPF3D7_1338100\n",
    "0.0004 ± 0.0000\tPF3D7_0812200\n",
    "0.0004 ± 0.0000\tMAL6.1339986.1340131..c..r\n",
    "0.0004 ± 0.0000\tPF3D7_1439700\n",
    "0.0004 ± 0.0000\tPF3D7_1130200\n",
    "0.0003 ± 0.0000\tPF3D7_1431200\n",
    "0.0003 ± 0.0000\tPF3D7_0626800\n",
    "0.0003 ± 0.0000\tPF3D7_1344100\n",
    "0.0003 ± 0.0000\tPF3D7_1343000\n",
    "0.0003 ± 0.0000\tPF3D7_0502500\n",
    "0.0003 ± 0.0000\tPF3D7_1250700\n",
    "0.0003 ± 0.0000\tPF3D7_1219800\n",
    "0.0003 ± 0.0000\tPF3D7_0613000.1\n",
    "0.0003 ± 0.0000\tPF3D7_1455100\n",
    "0.0003 ± 0.0000\tPF3D7_1454900\n",
    "0.0003 ± 0.0000\tPF3D7_0304700\n",
    "0.0003 ± 0.0000\tPF3D7_1446100\n",
    "0.0003 ± 0.0000\tPF3D7_1254300\n",
    "0.0003 ± 0.0000\tPF3D7_1206400\n",
    "0.0003 ± 0.0000\tPF3D7_0709800\n",
    "0.0003 ± 0.0000\tPF3D7_0729700\n",
    "0.0003 ± 0.0000\tPF3D7_0630100\n",
    "0.0003 ± 0.0000\tPF3D7_1328100\n",
    "0.0003 ± 0.0000\tPF3D7_1131600\n",
    "0.0003 ± 0.0000\tPF3D7_0617100\n",
    "0.0003 ± 0.0000\tPF3D7_1217000\n",
    "0.0003 ± 0.0000\tPF3D7_1453700\n",
    "0.0003 ± 0.0000\tPF3D7_1412800\n",
    "0.0003 ± 0.0000\tPF3D7_0917200\n",
    "0.0003 ± 0.0000\tPF3D7_1208900\n",
    "0.0003 ± 0.0000\tPF3D7_0523100\n",
    "0.0003 ± 0.0000\tPF3D7_0418700\n",
    "0.0003 ± 0.0000\tMAL14.2495738.2496264....k\n",
    "0.0003 ± 0.0000\tPF3D7_0206800\n",
    "0.0003 ± 0.0000\tPF3D7_1245200\n",
    "0.0003 ± 0.0000\tPF3D7_0112800\n",
    "0.0003 ± 0.0000\tPF3D7_1474100\n",
    "… 5494 more …\n",
    "perm, feature_names = X.columns.tolist()\n",
    "my_results = eli5.show_weights(p"
   ]
  },
  {
   "cell_type": "markdown",
   "metadata": {},
   "source": [
    "perm = PermutationImportance(model, random_state=np.random.seed(101),n_iter=1).fit(X_train, y_train)"
   ]
  },
  {
   "cell_type": "markdown",
   "metadata": {},
   "source": [
    "type(my_model)"
   ]
  },
  {
   "cell_type": "markdown",
   "metadata": {},
   "source": [
    "type(model)\n",
    "\n"
   ]
  }
 ],
 "metadata": {
  "kernelspec": {
   "display_name": "Python 2",
   "language": "python",
   "name": "python2"
  },
  "language_info": {
   "codemirror_mode": {
    "name": "ipython",
    "version": 2
   },
   "file_extension": ".py",
   "mimetype": "text/x-python",
   "name": "python",
   "nbconvert_exporter": "python",
   "pygments_lexer": "ipython2",
   "version": "2.7.14"
  }
 },
 "nbformat": 4,
 "nbformat_minor": 4
}
